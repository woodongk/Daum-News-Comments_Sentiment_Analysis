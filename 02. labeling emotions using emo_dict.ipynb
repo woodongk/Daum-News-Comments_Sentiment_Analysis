{
 "cells": [
  {
   "cell_type": "code",
   "execution_count": 1,
   "metadata": {},
   "outputs": [],
   "source": [
    "import numpy as np\n",
    "import pandas as pd\n",
    "import os\n",
    "import tqdm\n",
    "\n",
    "import sys\n",
    "sys.path.append('../')\n",
    "import itertools\n",
    "\n",
    "from util.text_preprocessing import tokenize_comment"
   ]
  },
  {
   "cell_type": "markdown",
   "metadata": {},
   "source": [
    "# Load Data"
   ]
  },
  {
   "cell_type": "markdown",
   "metadata": {},
   "source": [
    "## 전체 코멘트 불러오기"
   ]
  },
  {
   "cell_type": "code",
   "execution_count": 2,
   "metadata": {},
   "outputs": [
    {
     "data": {
      "text/html": [
       "<div>\n",
       "<style scoped>\n",
       "    .dataframe tbody tr th:only-of-type {\n",
       "        vertical-align: middle;\n",
       "    }\n",
       "\n",
       "    .dataframe tbody tr th {\n",
       "        vertical-align: top;\n",
       "    }\n",
       "\n",
       "    .dataframe thead th {\n",
       "        text-align: right;\n",
       "    }\n",
       "</style>\n",
       "<table border=\"1\" class=\"dataframe\">\n",
       "  <thead>\n",
       "    <tr style=\"text-align: right;\">\n",
       "      <th></th>\n",
       "      <th>comment_id</th>\n",
       "      <th>comment</th>\n",
       "      <th>comment_token</th>\n",
       "    </tr>\n",
       "  </thead>\n",
       "  <tbody>\n",
       "    <tr>\n",
       "      <th>0</th>\n",
       "      <td>F3C2DFCFE9E947B19C8A3053DD5C821B</td>\n",
       "      <td>이국종교수는  외과 야전사령관 이다.  그분의 업무에 차질 없도록 물심양면 으로  ...</td>\n",
       "      <td>[이국, 종, 교수, 외과, 야전, 사령관, 분, 업무, 차질, 없도록, 물, 심양...</td>\n",
       "    </tr>\n",
       "    <tr>\n",
       "      <th>1</th>\n",
       "      <td>61A3B6AAD6124DFFB70EC4275496F8A6</td>\n",
       "      <td>문재인 대통령님과 이국종 교수님, 그리고 귀순병사 모두 건강하시길 빕니다.</td>\n",
       "      <td>[문재인, 대통령, 이국, 종, 교수, 귀순, 병사, 모두, 건강하시길]</td>\n",
       "    </tr>\n",
       "    <tr>\n",
       "      <th>2</th>\n",
       "      <td>B6660EF2C7C14A2F903A08363641CF09</td>\n",
       "      <td>단 한번도 써보지 못했다ㆍ 포인트의 절반만이라도 통신비로 차감을!</td>\n",
       "      <td>[단, 한번, 보지, 포인트, 절반, 통신비, 차감]</td>\n",
       "    </tr>\n",
       "    <tr>\n",
       "      <th>3</th>\n",
       "      <td>C4F129BFB1FD4543A24A03D96F38351D</td>\n",
       "      <td>우리나라 통신업체들  참 쉽게  돈 벌어요</td>\n",
       "      <td>[우리나라, 통신, 업체, 돈]</td>\n",
       "    </tr>\n",
       "    <tr>\n",
       "      <th>4</th>\n",
       "      <td>1A21FDDF151E45DF808F0E5B662E8F3C</td>\n",
       "      <td>진짜 쓸데가너무적다.</td>\n",
       "      <td>[진짜]</td>\n",
       "    </tr>\n",
       "  </tbody>\n",
       "</table>\n",
       "</div>"
      ],
      "text/plain": [
       "                         comment_id  \\\n",
       "0  F3C2DFCFE9E947B19C8A3053DD5C821B   \n",
       "1  61A3B6AAD6124DFFB70EC4275496F8A6   \n",
       "2  B6660EF2C7C14A2F903A08363641CF09   \n",
       "3  C4F129BFB1FD4543A24A03D96F38351D   \n",
       "4  1A21FDDF151E45DF808F0E5B662E8F3C   \n",
       "\n",
       "                                             comment  \\\n",
       "0  이국종교수는  외과 야전사령관 이다.  그분의 업무에 차질 없도록 물심양면 으로  ...   \n",
       "1          문재인 대통령님과 이국종 교수님, 그리고 귀순병사 모두 건강하시길 빕니다.   \n",
       "2               단 한번도 써보지 못했다ㆍ 포인트의 절반만이라도 통신비로 차감을!   \n",
       "3                            우리나라 통신업체들  참 쉽게  돈 벌어요   \n",
       "4                                        진짜 쓸데가너무적다.   \n",
       "\n",
       "                                       comment_token  \n",
       "0  [이국, 종, 교수, 외과, 야전, 사령관, 분, 업무, 차질, 없도록, 물, 심양...  \n",
       "1           [문재인, 대통령, 이국, 종, 교수, 귀순, 병사, 모두, 건강하시길]  \n",
       "2                      [단, 한번, 보지, 포인트, 절반, 통신비, 차감]  \n",
       "3                                  [우리나라, 통신, 업체, 돈]  \n",
       "4                                               [진짜]  "
      ]
     },
     "execution_count": 2,
     "metadata": {},
     "output_type": "execute_result"
    }
   ],
   "source": [
    "total_comments_df = pd.read_pickle(\"dataset/total-comments_tokenized.pkl\")\n",
    "total_comments_df = total_comments_df.loc[:,['comment_id','comment','comment_token']]\n",
    "total_comments_df.head(5)"
   ]
  },
  {
   "cell_type": "markdown",
   "metadata": {},
   "source": [
    "## 감정 사전 만들기\n",
    "- 6 emotion : happy, sad, disgust, angry, surprised, fear\n",
    "- 홍종선, 정연주. (2009). 감정동사의 범주 규정과 유형 분류. 한국어학, 45(), 387-420."
   ]
  },
  {
   "cell_type": "code",
   "execution_count": 3,
   "metadata": {},
   "outputs": [
    {
     "data": {
      "text/html": [
       "<div>\n",
       "<style scoped>\n",
       "    .dataframe tbody tr th:only-of-type {\n",
       "        vertical-align: middle;\n",
       "    }\n",
       "\n",
       "    .dataframe tbody tr th {\n",
       "        vertical-align: top;\n",
       "    }\n",
       "\n",
       "    .dataframe thead th {\n",
       "        text-align: right;\n",
       "    }\n",
       "</style>\n",
       "<table border=\"1\" class=\"dataframe\">\n",
       "  <thead>\n",
       "    <tr style=\"text-align: right;\">\n",
       "      <th></th>\n",
       "      <th>happy</th>\n",
       "      <th>sad</th>\n",
       "      <th>disgust</th>\n",
       "      <th>angry</th>\n",
       "      <th>surprised</th>\n",
       "      <th>fear</th>\n",
       "    </tr>\n",
       "  </thead>\n",
       "  <tbody>\n",
       "    <tr>\n",
       "      <th>0</th>\n",
       "      <td>가뿐하다</td>\n",
       "      <td>가슴앓이</td>\n",
       "      <td>가소롭다</td>\n",
       "      <td>갈기갈기</td>\n",
       "      <td>갑작스럽다</td>\n",
       "      <td>가혹하다</td>\n",
       "    </tr>\n",
       "    <tr>\n",
       "      <th>1</th>\n",
       "      <td>감개무량하다</td>\n",
       "      <td>가엽다</td>\n",
       "      <td>거북하다</td>\n",
       "      <td>개새끼</td>\n",
       "      <td>경악하다</td>\n",
       "      <td>강압적</td>\n",
       "    </tr>\n",
       "    <tr>\n",
       "      <th>2</th>\n",
       "      <td>감격스럽다</td>\n",
       "      <td>가엾다</td>\n",
       "      <td>경박하다</td>\n",
       "      <td>개자식</td>\n",
       "      <td>경이</td>\n",
       "      <td>겁쟁이</td>\n",
       "    </tr>\n",
       "    <tr>\n",
       "      <th>3</th>\n",
       "      <td>감격하다</td>\n",
       "      <td>가혹하다</td>\n",
       "      <td>괴상하다</td>\n",
       "      <td>격노하다</td>\n",
       "      <td>급작스럽다</td>\n",
       "      <td>공포감</td>\n",
       "    </tr>\n",
       "    <tr>\n",
       "      <th>4</th>\n",
       "      <td>감동스럽다</td>\n",
       "      <td>각박하다</td>\n",
       "      <td>괴팍하다</td>\n",
       "      <td>격분하다</td>\n",
       "      <td>기겁하다</td>\n",
       "      <td>공포스럽다</td>\n",
       "    </tr>\n",
       "  </tbody>\n",
       "</table>\n",
       "</div>"
      ],
      "text/plain": [
       "    happy   sad disgust angry surprised   fear\n",
       "0    가뿐하다  가슴앓이    가소롭다  갈기갈기     갑작스럽다   가혹하다\n",
       "1  감개무량하다   가엽다    거북하다   개새끼      경악하다    강압적\n",
       "2   감격스럽다   가엾다    경박하다   개자식        경이    겁쟁이\n",
       "3    감격하다  가혹하다    괴상하다  격노하다     급작스럽다    공포감\n",
       "4   감동스럽다  각박하다    괴팍하다  격분하다      기겁하다  공포스럽다"
      ]
     },
     "execution_count": 3,
     "metadata": {},
     "output_type": "execute_result"
    }
   ],
   "source": [
    "six_emodict_df = pd.read_excel(\"자료/six_emotion_bigram2_0403.xlsx\", encoding = 'utf-8')\n",
    "six_emodict_df.head()"
   ]
  },
  {
   "cell_type": "code",
   "execution_count": 4,
   "metadata": {},
   "outputs": [
    {
     "data": {
      "text/plain": [
       "happy        113\n",
       "sad          174\n",
       "disgust       77\n",
       "angry        110\n",
       "surprised     47\n",
       "fear          38\n",
       "dtype: int64"
      ]
     },
     "execution_count": 4,
     "metadata": {},
     "output_type": "execute_result"
    }
   ],
   "source": [
    "# 감정 별 단어 개수\n",
    "six_emodict_df.count()"
   ]
  },
  {
   "cell_type": "code",
   "execution_count": 5,
   "metadata": {},
   "outputs": [
    {
     "name": "stdout",
     "output_type": "stream",
     "text": [
      "['happy', 'sad', 'disgust', 'angry', 'surprised', 'fear']\n"
     ]
    },
    {
     "data": {
      "text/plain": [
       "['가당찮다', '가증', '갈기갈기', '갈등', '강압']"
      ]
     },
     "execution_count": 5,
     "metadata": {},
     "output_type": "execute_result"
    }
   ],
   "source": [
    "# 감정 리스트에 변수 할당 \n",
    "six_emotion = six_emodict_df.columns.tolist()\n",
    "print(six_emotion)\n",
    "for emo in six_emotion:\n",
    "    # 단어 사전에서 emo_words 받아오기\n",
    "    emo_words = six_emodict_df[emo].dropna().tolist() \n",
    "    # 단어 토큰화, 토큰화 후 nan값 된 단어 제거\n",
    "    emo_words = [tokenize_comment(x)[0] for x in emo_words if len(tokenize_comment(x))>0]\n",
    "    # 중복 제거\n",
    "    emo_words = sorted(list(set(emo_words)))\n",
    "    # 각 감정변수에 차례대로 할당\n",
    "    globals()[emo] = emo_words\n",
    "    \n",
    "angry[:5]"
   ]
  },
  {
   "cell_type": "code",
   "execution_count": 6,
   "metadata": {},
   "outputs": [],
   "source": [
    "bi_happy = [('속','시원하다'),('낯','간지럽다'),('정','들다'),('홀','가분')]\n",
    "\n",
    "bi_sad = [('가슴','아프다'),('기운','없다'),('남','부럽다'),('뒤','숭숭'),('맥','빠지다'),\n",
    "              ('복','받치다'),('뼈','아프다'),('뼈','저리다'),('애','끓다'),('애','닮다'),\n",
    "              ('애','타다'),('처','연하다'),('속','썩다'),('속','앓이'),('속','타다')]\n",
    "\n",
    "bi_disgust =  [('못','밉다'),('정','떨어지다'),('못','마땅하다'),('시','덥다'),('남','부끄럽다'),\n",
    "                   ('징','그렇다'),('뼈','저리다'),('애','끓다'),('애','닮다'),('처','연하다'),\n",
    "                   ('속','썩다'),('속','앓이'),('속','타다')]\n",
    "\n",
    "bi_angry = [('못','되다'),('삐','딱하다'),('비','딱하다'),('약','오르다'),('치','떨리다'),\n",
    "                ('치밀','오르다'),('성','나다'),('못','마땅하다'),('정','떨어지다'),('남','부끄럽다')]\n",
    "\n",
    "bi_surprised = [('기상','천외'),('얼','떨다')]\n",
    "\n",
    "bi_fear = [('뒤','숭숭')]"
   ]
  },
  {
   "cell_type": "markdown",
   "metadata": {},
   "source": [
    "# 코멘트 데이터에 감정 레이블 달기 "
   ]
  },
  {
   "cell_type": "code",
   "execution_count": 7,
   "metadata": {},
   "outputs": [
    {
     "name": "stdout",
     "output_type": "stream",
     "text": [
      "[['가슴', '아프다', '정말'], ['요즘', '상황', '뒤', '숭숭'], ['감동', '스럽다']]\n"
     ]
    }
   ],
   "source": [
    "test = [\"가슴 아프다 정말\", #- sad\n",
    "        \"요즘 상황이 뒤숭숭하다\",#sad fear\n",
    "        \"어어어어엉 우웅우 감동스럽다\"]#happy]\n",
    "        \n",
    "test_token = []\n",
    "for i in test:\n",
    "    test_token.append(tokenize_comment(i))\n",
    "print(test_token)"
   ]
  },
  {
   "cell_type": "markdown",
   "metadata": {},
   "source": [
    "## 댓글에 특정 감정에 해당하는 단어가 등장하면 update\n",
    "\n",
    "- bigram\n",
    "- unigram"
   ]
  },
  {
   "cell_type": "code",
   "execution_count": 89,
   "metadata": {},
   "outputs": [
    {
     "data": {
      "text/plain": [
       "0    이국종교수는  외과 야전사령관 이다.  그분의 업무에 차질 없도록 물심양면 으로  ...\n",
       "1            문재인 대통령님과 이국종 교수님, 그리고 귀순병사 모두 건강하시길 빕니다.\n",
       "2                 단 한번도 써보지 못했다ㆍ 포인트의 절반만이라도 통신비로 차감을!\n",
       "3                              우리나라 통신업체들  참 쉽게  돈 벌어요\n",
       "4                                          진짜 쓸데가너무적다.\n",
       "5                                포인트 다쓰려다 내돈이 더 많이 나간다\n",
       "6                                  사법 적폐 청산이 시급한듯 싶네요!\n",
       "7       죽고자하면산다고 죽음에사선을넘어온  그대가  대한민국에세 아름다운삶을이어가기바랍니다\n",
       "8    당시 우리국군과 미군들의  대응은 아주 잘한것으로 보입니다, 공동경비 구역의 모든 ...\n",
       "9                             우리 국방부 대응 잘했어요?? 문제는 언론임\n",
       "Name: comment, dtype: object"
      ]
     },
     "execution_count": 89,
     "metadata": {},
     "output_type": "execute_result"
    }
   ],
   "source": [
    "total_comments_df['comment'][:10]"
   ]
  },
  {
   "cell_type": "code",
   "execution_count": 96,
   "metadata": {},
   "outputs": [],
   "source": [
    "from konlpy.tag import Okt\n",
    "def tokenize_comment(comment):\n",
    "    \"\"\" \n",
    "    ** 참고 - konlpy.Okt 패키지 사용 **\n",
    "    \n",
    "    :param comment: 뉴스 댓글 문장 하나\n",
    "    :return: 문장을 token단위로 쪼갠 후 리스트로 반환\n",
    "    \n",
    "    \"\"\"\n",
    "    okt = Okt()\n",
    "    i = 0\n",
    "    malist = okt.pos(comment)\n",
    "    r = []\n",
    "\n",
    "    tag = [\"Noun\", \"Adjective\"]\n",
    "    stopwords = [\"것\", \"이\", \"안\", \"더\", \"왜\", \"때\", \"좀\", \"뭐\", \"거\", \"저\", \"뿐\", \"머\"]\n",
    "\n",
    "    try:\n",
    "        for word in malist:\n",
    "            # 어미/조사/구두점/ㅋㅋ^^ㅎㅎ/음표살림/Alphabet/부사는 대상에서 제외\n",
    "            if word[1] in tag:\n",
    "                if not word[0] in r:\n",
    "                    if not word[0] in stopwords:\n",
    "                        # 숫자, 특수문자 제거.\n",
    "                        r.append(word[0])\n",
    "        return r\n",
    "\n",
    "    except Exception as e:\n",
    "        print(e)"
   ]
  },
  {
   "cell_type": "code",
   "execution_count": 97,
   "metadata": {},
   "outputs": [
    {
     "data": {
      "text/plain": [
       "['사법', '적폐', '청산', '시급한듯']"
      ]
     },
     "execution_count": 97,
     "metadata": {},
     "output_type": "execute_result"
    }
   ],
   "source": [
    "tokenize_comment(\"사법 적폐 청산이 시급한듯 싶네요!\")"
   ]
  },
  {
   "cell_type": "code",
   "execution_count": null,
   "metadata": {},
   "outputs": [],
   "source": []
  },
  {
   "cell_type": "code",
   "execution_count": null,
   "metadata": {},
   "outputs": [],
   "source": []
  },
  {
   "cell_type": "code",
   "execution_count": 116,
   "metadata": {},
   "outputs": [
    {
     "data": {
      "text/plain": [
       "2393070"
      ]
     },
     "execution_count": 116,
     "metadata": {},
     "output_type": "execute_result"
    }
   ],
   "source": []
  },
  {
   "cell_type": "code",
   "execution_count": 117,
   "metadata": {},
   "outputs": [
    {
     "name": "stdout",
     "output_type": "stream",
     "text": [
      "0.99999958212672424543\r"
     ]
    }
   ],
   "source": [
    "emo_set = [happy, sad, disgust, angry, surprised, fear]\n",
    "emo_bigram_set = [bi_happy, bi_sad, bi_disgust, bi_angry, bi_surprised, bi_fear]\n",
    "\n",
    "check_token_lst = []\n",
    "emo_cnt_lst = []\n",
    "\n",
    "total_num = len(total_comments_df)\n",
    "\n",
    "# comment 돌기\n",
    "for i,comment in enumerate(total_comments_df['comment_token']):\n",
    "    print(i/total_num,end=\"\\r\")\n",
    "    check_token = []\n",
    "    emo_cnt = [0,0,0,0,0,0]\n",
    "    \n",
    "    # bigram 처리\n",
    "    for i, biwords in enumerate(emo_bigram_set):\n",
    "        for a, b in biwords:\n",
    "             if (a in comment) & (b in comment):\n",
    "                check_token.append(a+b)\n",
    "                emo_cnt[i] += 1 \n",
    "\n",
    "    # unigram 처리\n",
    "    for token in comment:\n",
    "        for i, words in enumerate(emo_set):\n",
    "            if token in words:\n",
    "                emo_cnt[i] += 1\n",
    "                check_token.append(token)\n",
    "\n",
    "    check_token_lst.append(check_token)\n",
    "    emo_cnt_lst.append(emo_cnt)"
   ]
  },
  {
   "cell_type": "code",
   "execution_count": 151,
   "metadata": {},
   "outputs": [],
   "source": [
    "# 비율로 환산\n",
    "sum_of_emo = np.array(emo_cnt_lst).sum(axis=1,keepdims=True)\n",
    "\n",
    "emo_ratio = np.array(emo_cnt_lst) / sum_of_emo\n",
    "emo_ratio[np.isnan(emo_ratio)] = 0\n",
    "\n",
    "emo_df = pd.DataFrame(emo_ratio,columns = ['happy','sad','disgust','angry','surprised','fear'])"
   ]
  },
  {
   "cell_type": "code",
   "execution_count": 155,
   "metadata": {},
   "outputs": [
    {
     "data": {
      "text/plain": [
       "400917"
      ]
     },
     "execution_count": 155,
     "metadata": {},
     "output_type": "execute_result"
    }
   ],
   "source": [
    "a = emo_df['happy']+emo_df['sad']+emo_df['disgust']+emo_df['angry']+emo_df['surprised']+emo_df['fear']\n",
    "len(np.where(np.array(a)>0)[0])"
   ]
  },
  {
   "cell_type": "markdown",
   "metadata": {},
   "source": [
    "2,393,070 개의 댓글 중 40만 개의 댓글이 감정 단어를 보유\n",
    "\n",
    ".... 6개 중 1개 꼴"
   ]
  },
  {
   "cell_type": "code",
   "execution_count": 156,
   "metadata": {},
   "outputs": [
    {
     "name": "stdout",
     "output_type": "stream",
     "text": [
      "(2393070, 10)\n"
     ]
    },
    {
     "data": {
      "text/html": [
       "<div>\n",
       "<style scoped>\n",
       "    .dataframe tbody tr th:only-of-type {\n",
       "        vertical-align: middle;\n",
       "    }\n",
       "\n",
       "    .dataframe tbody tr th {\n",
       "        vertical-align: top;\n",
       "    }\n",
       "\n",
       "    .dataframe thead th {\n",
       "        text-align: right;\n",
       "    }\n",
       "</style>\n",
       "<table border=\"1\" class=\"dataframe\">\n",
       "  <thead>\n",
       "    <tr style=\"text-align: right;\">\n",
       "      <th></th>\n",
       "      <th>happy</th>\n",
       "      <th>sad</th>\n",
       "      <th>disgust</th>\n",
       "      <th>angry</th>\n",
       "      <th>surprised</th>\n",
       "      <th>fear</th>\n",
       "      <th>comment_id</th>\n",
       "      <th>comment</th>\n",
       "      <th>comment_token</th>\n",
       "      <th>check</th>\n",
       "    </tr>\n",
       "  </thead>\n",
       "  <tbody>\n",
       "    <tr>\n",
       "      <th>0</th>\n",
       "      <td>0.0</td>\n",
       "      <td>0.0</td>\n",
       "      <td>0.0</td>\n",
       "      <td>0.0</td>\n",
       "      <td>0.0</td>\n",
       "      <td>0.0</td>\n",
       "      <td>F3C2DFCFE9E947B19C8A3053DD5C821B</td>\n",
       "      <td>이국종교수는  외과 야전사령관 이다.  그분의 업무에 차질 없도록 물심양면 으로  ...</td>\n",
       "      <td>[이국, 종, 교수, 외과, 야전, 사령관, 분, 업무, 차질, 없도록, 물, 심양...</td>\n",
       "      <td>[]</td>\n",
       "    </tr>\n",
       "    <tr>\n",
       "      <th>1</th>\n",
       "      <td>0.0</td>\n",
       "      <td>0.0</td>\n",
       "      <td>0.0</td>\n",
       "      <td>0.0</td>\n",
       "      <td>0.0</td>\n",
       "      <td>0.0</td>\n",
       "      <td>61A3B6AAD6124DFFB70EC4275496F8A6</td>\n",
       "      <td>문재인 대통령님과 이국종 교수님, 그리고 귀순병사 모두 건강하시길 빕니다.</td>\n",
       "      <td>[문재인, 대통령, 이국, 종, 교수, 귀순, 병사, 모두, 건강하시길]</td>\n",
       "      <td>[]</td>\n",
       "    </tr>\n",
       "    <tr>\n",
       "      <th>2</th>\n",
       "      <td>0.0</td>\n",
       "      <td>0.0</td>\n",
       "      <td>0.0</td>\n",
       "      <td>0.0</td>\n",
       "      <td>0.0</td>\n",
       "      <td>0.0</td>\n",
       "      <td>B6660EF2C7C14A2F903A08363641CF09</td>\n",
       "      <td>단 한번도 써보지 못했다ㆍ 포인트의 절반만이라도 통신비로 차감을!</td>\n",
       "      <td>[단, 한번, 보지, 포인트, 절반, 통신비, 차감]</td>\n",
       "      <td>[]</td>\n",
       "    </tr>\n",
       "    <tr>\n",
       "      <th>3</th>\n",
       "      <td>0.0</td>\n",
       "      <td>0.0</td>\n",
       "      <td>0.0</td>\n",
       "      <td>0.0</td>\n",
       "      <td>0.0</td>\n",
       "      <td>0.0</td>\n",
       "      <td>C4F129BFB1FD4543A24A03D96F38351D</td>\n",
       "      <td>우리나라 통신업체들  참 쉽게  돈 벌어요</td>\n",
       "      <td>[우리나라, 통신, 업체, 돈]</td>\n",
       "      <td>[]</td>\n",
       "    </tr>\n",
       "    <tr>\n",
       "      <th>4</th>\n",
       "      <td>0.0</td>\n",
       "      <td>0.0</td>\n",
       "      <td>0.0</td>\n",
       "      <td>0.0</td>\n",
       "      <td>0.0</td>\n",
       "      <td>0.0</td>\n",
       "      <td>1A21FDDF151E45DF808F0E5B662E8F3C</td>\n",
       "      <td>진짜 쓸데가너무적다.</td>\n",
       "      <td>[진짜]</td>\n",
       "      <td>[]</td>\n",
       "    </tr>\n",
       "  </tbody>\n",
       "</table>\n",
       "</div>"
      ],
      "text/plain": [
       "   happy  sad  disgust  angry  surprised  fear  \\\n",
       "0    0.0  0.0      0.0    0.0        0.0   0.0   \n",
       "1    0.0  0.0      0.0    0.0        0.0   0.0   \n",
       "2    0.0  0.0      0.0    0.0        0.0   0.0   \n",
       "3    0.0  0.0      0.0    0.0        0.0   0.0   \n",
       "4    0.0  0.0      0.0    0.0        0.0   0.0   \n",
       "\n",
       "                         comment_id  \\\n",
       "0  F3C2DFCFE9E947B19C8A3053DD5C821B   \n",
       "1  61A3B6AAD6124DFFB70EC4275496F8A6   \n",
       "2  B6660EF2C7C14A2F903A08363641CF09   \n",
       "3  C4F129BFB1FD4543A24A03D96F38351D   \n",
       "4  1A21FDDF151E45DF808F0E5B662E8F3C   \n",
       "\n",
       "                                             comment  \\\n",
       "0  이국종교수는  외과 야전사령관 이다.  그분의 업무에 차질 없도록 물심양면 으로  ...   \n",
       "1          문재인 대통령님과 이국종 교수님, 그리고 귀순병사 모두 건강하시길 빕니다.   \n",
       "2               단 한번도 써보지 못했다ㆍ 포인트의 절반만이라도 통신비로 차감을!   \n",
       "3                            우리나라 통신업체들  참 쉽게  돈 벌어요   \n",
       "4                                        진짜 쓸데가너무적다.   \n",
       "\n",
       "                                       comment_token check  \n",
       "0  [이국, 종, 교수, 외과, 야전, 사령관, 분, 업무, 차질, 없도록, 물, 심양...    []  \n",
       "1           [문재인, 대통령, 이국, 종, 교수, 귀순, 병사, 모두, 건강하시길]    []  \n",
       "2                      [단, 한번, 보지, 포인트, 절반, 통신비, 차감]    []  \n",
       "3                                  [우리나라, 통신, 업체, 돈]    []  \n",
       "4                                               [진짜]    []  "
      ]
     },
     "execution_count": 156,
     "metadata": {},
     "output_type": "execute_result"
    }
   ],
   "source": [
    "comment_with_emo = pd.concat([emo_df,\n",
    "                              total_comments_df,\n",
    "                              pd.DataFrame({\"check\":pd.Series(check_token_lst)})],\n",
    "                             sort=False,axis=1)\n",
    "print(comment_with_emo.shape)\n",
    "comment_with_emo.head()"
   ]
  },
  {
   "cell_type": "code",
   "execution_count": null,
   "metadata": {},
   "outputs": [],
   "source": []
  },
  {
   "cell_type": "code",
   "execution_count": null,
   "metadata": {},
   "outputs": [],
   "source": []
  },
  {
   "cell_type": "code",
   "execution_count": null,
   "metadata": {},
   "outputs": [],
   "source": []
  },
  {
   "cell_type": "code",
   "execution_count": null,
   "metadata": {},
   "outputs": [],
   "source": []
  },
  {
   "cell_type": "code",
   "execution_count": null,
   "metadata": {},
   "outputs": [],
   "source": []
  },
  {
   "cell_type": "code",
   "execution_count": null,
   "metadata": {},
   "outputs": [],
   "source": []
  },
  {
   "cell_type": "code",
   "execution_count": null,
   "metadata": {},
   "outputs": [],
   "source": []
  },
  {
   "cell_type": "code",
   "execution_count": null,
   "metadata": {},
   "outputs": [],
   "source": []
  },
  {
   "cell_type": "code",
   "execution_count": null,
   "metadata": {},
   "outputs": [],
   "source": []
  },
  {
   "cell_type": "code",
   "execution_count": null,
   "metadata": {},
   "outputs": [],
   "source": []
  }
 ],
 "metadata": {
  "kernelspec": {
   "display_name": "Python 3",
   "language": "python",
   "name": "python3"
  },
  "language_info": {
   "codemirror_mode": {
    "name": "ipython",
    "version": 3
   },
   "file_extension": ".py",
   "mimetype": "text/x-python",
   "name": "python",
   "nbconvert_exporter": "python",
   "pygments_lexer": "ipython3",
   "version": "3.7.4"
  }
 },
 "nbformat": 4,
 "nbformat_minor": 4
}
