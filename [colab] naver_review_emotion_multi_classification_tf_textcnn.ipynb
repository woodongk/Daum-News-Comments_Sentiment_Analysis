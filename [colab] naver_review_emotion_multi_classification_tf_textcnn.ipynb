{
 "cells": [
  {
   "cell_type": "markdown",
   "metadata": {
    "colab_type": "text",
    "id": "view-in-github"
   },
   "source": [
    "<a href=\"https://colab.research.google.com/github/woodongk/news-comments_emotion_classification-CNN-tensorflow/blob/master/news-comments_emotion_classification-CNN-tensorflow.ipynb\" target=\"_parent\"><img src=\"https://colab.research.google.com/assets/colab-badge.svg\" alt=\"Open In Colab\"/></a>"
   ]
  },
  {
   "cell_type": "code",
   "execution_count": 1,
   "metadata": {
    "colab": {
     "base_uri": "https://localhost:8080/"
    },
    "id": "LfFShIR0AiTS",
    "outputId": "32a87709-e4c0-4fa7-80ca-f287cff6fbc0"
   },
   "outputs": [
    {
     "name": "stdout",
     "output_type": "stream",
     "text": [
      "Mounted at /content/drive\n"
     ]
    }
   ],
   "source": [
    "from google.colab import drive\n",
    "drive.mount('/content/drive')"
   ]
  },
  {
   "cell_type": "code",
   "execution_count": 2,
   "metadata": {
    "id": "nqMTOX1PAuEM"
   },
   "outputs": [],
   "source": [
    "word2vec_model_path = \"/content/drive/MyDrive/Dataset 및 Project 정리/daum news and comments (2016 - 2017)/word_embedding_model/word2vec300/0710 w2v_model\"\n",
    "data_path = \"/content/drive/MyDrive/Dataset 및 Project 정리/daum news and comments (2016 - 2017)/final_data/comment_with_emo_over0.5.pkl\""
   ]
  },
  {
   "cell_type": "code",
   "execution_count": 3,
   "metadata": {
    "ExecuteTime": {
     "end_time": "2020-07-31T09:33:27.770561Z",
     "start_time": "2020-07-31T09:33:27.754630Z"
    },
    "id": "llcJGHPZAKit"
   },
   "outputs": [],
   "source": [
    "import pandas as pd\n",
    "import numpy as np\n",
    "import pickle\n",
    "import codecs\n",
    "import time\n",
    "from itertools import chain\n",
    "from collections import Counter\n",
    "\n",
    "import matplotlib.pyplot as plt\n",
    "\n",
    "from sklearn.utils import shuffle\n",
    "from gensim.models import word2vec\n",
    "from gensim.models import FastText\n",
    "from gensim.test.utils import get_tmpfile\n",
    "\n",
    "from sklearn.preprocessing import LabelEncoder, OneHotEncoder\n",
    "from sklearn.model_selection import train_test_split\n",
    "\n",
    "import sys\n",
    "import tensorflow as tf\n",
    "from tensorflow import keras"
   ]
  },
  {
   "cell_type": "code",
   "execution_count": 4,
   "metadata": {
    "colab": {
     "base_uri": "https://localhost:8080/",
     "height": 35
    },
    "id": "BZFDJ6F0AOo2",
    "outputId": "6856b4a5-e65c-46fb-891b-c9a2aab94b37"
   },
   "outputs": [
    {
     "data": {
      "application/vnd.google.colaboratory.intrinsic+json": {
       "type": "string"
      },
      "text/plain": [
       "'2.4.1'"
      ]
     },
     "execution_count": 4,
     "metadata": {
      "tags": []
     },
     "output_type": "execute_result"
    }
   ],
   "source": [
    "tf.__version__"
   ]
  },
  {
   "cell_type": "markdown",
   "metadata": {},
   "source": [
    "# 데이터 준비하기 "
   ]
  },
  {
   "cell_type": "markdown",
   "metadata": {
    "id": "MA2BbZycAKiy"
   },
   "source": [
    "## 감정 댓글 불러오기"
   ]
  },
  {
   "cell_type": "code",
   "execution_count": 5,
   "metadata": {
    "ExecuteTime": {
     "end_time": "2020-07-31T09:01:40.522575Z",
     "start_time": "2020-07-31T09:01:37.444Z"
    },
    "colab": {
     "base_uri": "https://localhost:8080/",
     "height": 476
    },
    "id": "_2tqsjteAKiz",
    "outputId": "0f59dee1-db95-4b06-d3f6-08281ca559f7",
    "scrolled": true
   },
   "outputs": [
    {
     "name": "stdout",
     "output_type": "stream",
     "text": [
      "emotion_comment_df:  (408607, 11)\n"
     ]
    },
    {
     "data": {
      "text/html": [
       "<div>\n",
       "<style scoped>\n",
       "    .dataframe tbody tr th:only-of-type {\n",
       "        vertical-align: middle;\n",
       "    }\n",
       "\n",
       "    .dataframe tbody tr th {\n",
       "        vertical-align: top;\n",
       "    }\n",
       "\n",
       "    .dataframe thead th {\n",
       "        text-align: right;\n",
       "    }\n",
       "</style>\n",
       "<table border=\"1\" class=\"dataframe\">\n",
       "  <thead>\n",
       "    <tr style=\"text-align: right;\">\n",
       "      <th></th>\n",
       "      <th>happy</th>\n",
       "      <th>sad</th>\n",
       "      <th>disgust</th>\n",
       "      <th>angry</th>\n",
       "      <th>surprised</th>\n",
       "      <th>fear</th>\n",
       "      <th>comment_id</th>\n",
       "      <th>comment</th>\n",
       "      <th>comment_token</th>\n",
       "      <th>check</th>\n",
       "      <th>emotion</th>\n",
       "    </tr>\n",
       "  </thead>\n",
       "  <tbody>\n",
       "    <tr>\n",
       "      <th>1773495</th>\n",
       "      <td>0.0</td>\n",
       "      <td>0.0</td>\n",
       "      <td>0.0</td>\n",
       "      <td>1.0</td>\n",
       "      <td>0.0</td>\n",
       "      <td>0.0</td>\n",
       "      <td>B012F53CF9AB4956AB4C1D78EF282733</td>\n",
       "      <td>젊은  놈이  자유한국당 스러운  놈일세</td>\n",
       "      <td>[젊다, 놈, 자유, 한국, 스럽다, 놈]</td>\n",
       "      <td>[놈, 놈]</td>\n",
       "      <td>angry</td>\n",
       "    </tr>\n",
       "    <tr>\n",
       "      <th>837539</th>\n",
       "      <td>0.0</td>\n",
       "      <td>0.0</td>\n",
       "      <td>0.0</td>\n",
       "      <td>1.0</td>\n",
       "      <td>0.0</td>\n",
       "      <td>0.0</td>\n",
       "      <td>531AC08B289A43279448AB08A13459FC</td>\n",
       "      <td>적폐  이철성이  얘가  아직도  버티고  있다는게   열받는다</td>\n",
       "      <td>[적폐, 이철성, 얘, 아직도, 버티고, 있다, 열, 받다]</td>\n",
       "      <td>[적폐]</td>\n",
       "      <td>angry</td>\n",
       "    </tr>\n",
       "    <tr>\n",
       "      <th>677656</th>\n",
       "      <td>0.0</td>\n",
       "      <td>0.0</td>\n",
       "      <td>1.0</td>\n",
       "      <td>0.0</td>\n",
       "      <td>0.0</td>\n",
       "      <td>0.0</td>\n",
       "      <td>BE113DAF9376498DBCC8A0516E429A45</td>\n",
       "      <td>고추로 된장 찍어먹는 넘들...... 똥꼬충들아 군대가 니들 안방이냐 아님 모텔이냐...</td>\n",
       "      <td>[고추, 된장, 찍다, 먹다, 넘다, 들다, 똥꼬, 충, 군대, 니, 안방, 아니다...</td>\n",
       "      <td>[더럽다]</td>\n",
       "      <td>disgust</td>\n",
       "    </tr>\n",
       "    <tr>\n",
       "      <th>891648</th>\n",
       "      <td>0.0</td>\n",
       "      <td>0.0</td>\n",
       "      <td>0.0</td>\n",
       "      <td>1.0</td>\n",
       "      <td>0.0</td>\n",
       "      <td>0.0</td>\n",
       "      <td>BD9CD0F4926D451C9C5A8DA06331DACA</td>\n",
       "      <td>대한민국은 미친나라? 여학생 말만 믿고 ㅈ선생님을 조사하고 처벌하는나라 다리를 떨면...</td>\n",
       "      <td>[대한민국, 미치다, 여학생, 말, 믿다, 선생님, 조사, 처벌, 다리, 떨다, 복...</td>\n",
       "      <td>[미치다]</td>\n",
       "      <td>angry</td>\n",
       "    </tr>\n",
       "    <tr>\n",
       "      <th>600962</th>\n",
       "      <td>0.0</td>\n",
       "      <td>0.0</td>\n",
       "      <td>0.0</td>\n",
       "      <td>1.0</td>\n",
       "      <td>0.0</td>\n",
       "      <td>0.0</td>\n",
       "      <td>8AB3FF9ED51A49CBB4BB45944DB6154D</td>\n",
       "      <td>때국넘들 진핑이 새끼가 ♩♩이네...</td>\n",
       "      <td>[때국, 넘다, 들다, 진핑, 새끼]</td>\n",
       "      <td>[새끼]</td>\n",
       "      <td>angry</td>\n",
       "    </tr>\n",
       "  </tbody>\n",
       "</table>\n",
       "</div>"
      ],
      "text/plain": [
       "         happy  sad  ...   check  emotion\n",
       "1773495    0.0  0.0  ...  [놈, 놈]    angry\n",
       "837539     0.0  0.0  ...    [적폐]    angry\n",
       "677656     0.0  0.0  ...   [더럽다]  disgust\n",
       "891648     0.0  0.0  ...   [미치다]    angry\n",
       "600962     0.0  0.0  ...    [새끼]    angry\n",
       "\n",
       "[5 rows x 11 columns]"
      ]
     },
     "metadata": {
      "tags": []
     },
     "output_type": "display_data"
    }
   ],
   "source": [
    "emotion_comment_df = pd.read_pickle(data_path)\n",
    "print(\"emotion_comment_df: \", emotion_comment_df.shape)\n",
    "display(emotion_comment_df.sample(5))"
   ]
  },
  {
   "cell_type": "code",
   "execution_count": 6,
   "metadata": {
    "ExecuteTime": {
     "end_time": "2020-07-31T09:01:40.523573Z",
     "start_time": "2020-07-31T09:01:37.963Z"
    },
    "colab": {
     "base_uri": "https://localhost:8080/"
    },
    "id": "GHOTjDN2AKiz",
    "outputId": "d26f0eae-91fa-431c-e91d-b731d0cae3f0"
   },
   "outputs": [
    {
     "name": "stdout",
     "output_type": "stream",
     "text": [
      "샘플링 전 : Counter({'angry': 240971, 'sad': 83041, 'happy': 44682, 'disgust': 17263, 'fear': 14649, 'surprised': 8001})\n",
      "\n",
      "샘플링 이후 : Counter({'angry': 8000, 'disgust': 8000, 'fear': 8000, 'happy': 8000, 'sad': 8000, 'surprised': 8000})\n"
     ]
    }
   ],
   "source": [
    "print(\"샘플링 전 :\",Counter(emotion_comment_df.emotion))\n",
    "print()\n",
    "\n",
    "# 각 감정별로 셔플한 다음 8,000개씩 부여 (Train = 85% / Test = 15%)\n",
    "sample_count = 8000\n",
    "\n",
    "sampled_emo_cmt_df = (\n",
    "    emotion_comment_df.groupby('emotion').apply(\n",
    "        lambda d: shuffle(d, random_state=42, n_samples=sample_count)).reset_index(drop=True)\n",
    ")\n",
    "\n",
    "print(\"샘플링 이후 :\",Counter(sampled_emo_cmt_df.emotion))"
   ]
  },
  {
   "cell_type": "markdown",
   "metadata": {
    "id": "xtIz6ysQAKi0"
   },
   "source": [
    "**균등한 데이터셋 분포를 위해 사전에 감정 별 데이터 크기를 동일하게 맞춤**"
   ]
  },
  {
   "cell_type": "markdown",
   "metadata": {
    "id": "A4EXTA4XSB7p"
   },
   "source": [
    "## 데이터셋 나누기 (Train / val / Test)"
   ]
  },
  {
   "cell_type": "code",
   "execution_count": 7,
   "metadata": {
    "id": "UuoARKPXSN7K"
   },
   "outputs": [],
   "source": [
    "# X\n",
    "data = sampled_emo_cmt_df['comment_token']\n",
    "# y\n",
    "cat_encoder = OneHotEncoder()\n",
    "labels = cat_encoder.fit_transform(sampled_emo_cmt_df[['emotion']]).toarray()"
   ]
  },
  {
   "cell_type": "code",
   "execution_count": 8,
   "metadata": {
    "colab": {
     "base_uri": "https://localhost:8080/"
    },
    "id": "jVgEXiGSSDd_",
    "outputId": "3e2c8a86-74e4-4c41-b934-916d52e23d48"
   },
   "outputs": [
    {
     "name": "stdout",
     "output_type": "stream",
     "text": [
      "\t\t\tFeature Shapes:\n",
      "Train set: \t\t(38400,) \n",
      "Validation set: \t(4800,) \n",
      "Test set: \t\t(4800,)\n"
     ]
    }
   ],
   "source": [
    "# shuffle data \n",
    "\n",
    "indices = np.arange(len(data))\n",
    "np.random.shuffle(indices)\n",
    "\n",
    "data = data[indices]\n",
    "labels = labels[indices]\n",
    "\n",
    "# split the data into a training set and a validation set \n",
    "split_frac=0.8\n",
    "split_idx = int(len(data)*split_frac)\n",
    "X_train, remaining_x = data[:split_idx], data[split_idx:]\n",
    "y_train, remaining_y = labels[:split_idx], labels[split_idx:]\n",
    "\n",
    "test_idx = int(len(remaining_x)*0.5)\n",
    "X_val, X_test = remaining_x[:test_idx], remaining_x[test_idx:]\n",
    "y_val, y_test = remaining_y[:test_idx], remaining_y[test_idx:]\n",
    "\n",
    "## print out the shapes of your resultant feature data\n",
    "print(\"\\t\\t\\tFeature Shapes:\")\n",
    "print(\"Train set: \\t\\t{}\".format(X_train.shape), \n",
    "      \"\\nValidation set: \\t{}\".format(X_val.shape),\n",
    "      \"\\nTest set: \\t\\t{}\".format(X_test.shape))"
   ]
  },
  {
   "cell_type": "code",
   "execution_count": 9,
   "metadata": {
    "colab": {
     "base_uri": "https://localhost:8080/"
    },
    "id": "x5yNioZlr6a6",
    "outputId": "7f47ebe1-0117-48ea-b3c0-968310f06119"
   },
   "outputs": [
    {
     "data": {
      "text/plain": [
       "13503    [전라도, 대한민국, 전라도, 이외, 지역, 살다, 사람, 그냥, 덤, 대한민국, ...\n",
       "36932    [참으로, 부끄럽다, 일, 일방, 쌍방, 또, 뭡, 어디, 두, 번, 다시, 인종차...\n",
       "19105       [진보, 좌파, 교육감, 나라, 망하다, 교육, 무너, 뜨다, 리, 있다, 무섭다]\n",
       "514      [남성, 장애인, 성욕, 여성, 손, 해결, 해주다, 화이트, 핸즈, 그렇다, 자원...\n",
       "29445      [웃다, 홍준표, 팔짱, 끼다, 추미애, 여러분, 이렇게, 정치가, 어렵다, 겁니다]\n",
       "                               ...                        \n",
       "11073    [차다, 대단하다, 대한민국, 공, 무, 원, 들이다, 그간, 민원, 기한, 주민,...\n",
       "33709    [내년, 개헌, 헌법, 임시정부, 독립운동, 법통, 계승, 반드시, 명문, 화하다,...\n",
       "33470                                    [한국, 울다, 보다, 일본차]\n",
       "14451    [아주머니, 맞짱, 뜨다, 찍, 소리, 년, 국회의원, 말로, 쎄다, 척, 존나, ...\n",
       "27728    [추다, 겨울, 되어다, 여학생, 짧다, 교복, 치마, 덮다, 따뜻하다, 해, 주다...\n",
       "Name: comment_token, Length: 48000, dtype: object"
      ]
     },
     "execution_count": 9,
     "metadata": {
      "tags": []
     },
     "output_type": "execute_result"
    }
   ],
   "source": [
    "data"
   ]
  },
  {
   "cell_type": "code",
   "execution_count": 10,
   "metadata": {
    "colab": {
     "base_uri": "https://localhost:8080/"
    },
    "id": "Zu8nXmuqr7mj",
    "outputId": "800f791c-e7ea-4121-8ef8-4c5da122a54e"
   },
   "outputs": [
    {
     "data": {
      "text/plain": [
       "array([[0., 1., 0., 0., 0., 0.],\n",
       "       [0., 0., 0., 0., 1., 0.],\n",
       "       [0., 0., 1., 0., 0., 0.],\n",
       "       ...,\n",
       "       [0., 0., 0., 0., 1., 0.],\n",
       "       [0., 1., 0., 0., 0., 0.],\n",
       "       [0., 0., 0., 1., 0., 0.]])"
      ]
     },
     "execution_count": 10,
     "metadata": {
      "tags": []
     },
     "output_type": "execute_result"
    }
   ],
   "source": [
    "labels"
   ]
  },
  {
   "cell_type": "code",
   "execution_count": 11,
   "metadata": {
    "colab": {
     "base_uri": "https://localhost:8080/"
    },
    "id": "RpZgmez2r8fC",
    "outputId": "0ecb62c6-a1a9-4371-cfd9-8baee4595bd4"
   },
   "outputs": [
    {
     "data": {
      "text/plain": [
       "happy                                           0\n",
       "sad                                             0\n",
       "disgust                                         0\n",
       "angry                                           0\n",
       "surprised                                       0\n",
       "fear                                            1\n",
       "comment_id       609E3FBE02094B9B9E099A039318E3C2\n",
       "comment                  승무원들 얼마나 공포스러웠을까 마음이 아프다\n",
       "comment_token        [승무원, 얼마나, 공포, 스럽다, 마음, 아프다]\n",
       "check                                        [공포]\n",
       "emotion                                      fear\n",
       "Name: 17094, dtype: object"
      ]
     },
     "execution_count": 11,
     "metadata": {
      "tags": []
     },
     "output_type": "execute_result"
    }
   ],
   "source": [
    "sampled_emo_cmt_df.iloc[17094,:]"
   ]
  },
  {
   "cell_type": "markdown",
   "metadata": {
    "id": "aZsUNUmcAKi0"
   },
   "source": [
    "## Text Encoding\n",
    "\n",
    "- 모든 단어를 정수로 인코딩\n",
    "- 케라스의 `Tokenizer` 클래스 사용\n",
    "- 모든 단어를 각기 다른 단어 ID에 매핑. ID는 1부터 시작해 고유한 단어 개수까지 생성 (**마스킹에 사용하기 때문에 0부터 시작하지 않음**)"
   ]
  },
  {
   "cell_type": "code",
   "execution_count": 12,
   "metadata": {
    "id": "mQsmNVvBRirK"
   },
   "outputs": [],
   "source": [
    "from tensorflow.keras.preprocessing.text import Tokenizer\n",
    "from tensorflow.keras.preprocessing.sequence import pad_sequences\n",
    "from tensorflow.keras.utils import to_categorical"
   ]
  },
  {
   "cell_type": "code",
   "execution_count": 13,
   "metadata": {
    "id": "2ULLulzqRpRM"
   },
   "outputs": [],
   "source": [
    "vocab_size = 30000\n",
    "max_length = 20"
   ]
  },
  {
   "cell_type": "code",
   "execution_count": 14,
   "metadata": {
    "colab": {
     "base_uri": "https://localhost:8080/"
    },
    "id": "2Z5Ug2vNR60l",
    "outputId": "873ac865-f275-41d2-96e6-e2107a2507a2"
   },
   "outputs": [
    {
     "name": "stdout",
     "output_type": "stream",
     "text": [
      "[1134, 87, 1134, 6523, 382, 42, 7, 81, 6159, 87, 948, 19696, 1365, 102, 3, 21, 1134, 1111, 245, 340, 1134, 953, 382, 42, 12, 12, 5, 11293, 12, 1134, 1111, 370, 148, 5358, 2667, 466, 42, 86, 1020, 9194, 11, 2249, 32, 25, 355, 40, 9, 90, 9, 21]\n",
      "[1111  370  148 5358 2667  466   42   86 1020 9194   11 2249   32   25\n",
      "  355   40    9   90    9   21]\n"
     ]
    }
   ],
   "source": [
    "tokenizer = Tokenizer(num_words=vocab_size)\n",
    "tokenizer.fit_on_texts(X_train)\n",
    "\n",
    "train_sequences = tokenizer.texts_to_sequences(X_train)\n",
    "X_train_padded = pad_sequences(train_sequences, maxlen=max_length)\n",
    "\n",
    "test_sequences = tokenizer.texts_to_sequences(X_test)\n",
    "X_test_padded = pad_sequences(test_sequences, maxlen=max_length)\n",
    "\n",
    "val_sequences = tokenizer.texts_to_sequences(X_val)\n",
    "X_val_padded = pad_sequences(val_sequences, maxlen=max_length)\n",
    "\n",
    "print(train_sequences[0])\n",
    "print(X_train_padded[0])"
   ]
  },
  {
   "cell_type": "code",
   "execution_count": 15,
   "metadata": {
    "colab": {
     "base_uri": "https://localhost:8080/"
    },
    "id": "0nl5MF69T6zP",
    "outputId": "0251e824-54fe-40a3-bf37-e93c9b7b1aca"
   },
   "outputs": [
    {
     "name": "stdout",
     "output_type": "stream",
     "text": [
      "Found 32605 unique tokens.\n"
     ]
    }
   ],
   "source": [
    "word_to_id = tokenizer.word_index\n",
    "print('Found %s unique tokens.' % len(word_to_id))"
   ]
  },
  {
   "cell_type": "code",
   "execution_count": 16,
   "metadata": {
    "colab": {
     "base_uri": "https://localhost:8080/"
    },
    "id": "JUnsWXgbT-EY",
    "outputId": "19397168-ebcd-428d-ed26-3a23ab47acf4"
   },
   "outputs": [
    {
     "name": "stdout",
     "output_type": "stream",
     "text": [
      "Shape of X train and X validation and X test tensor: (38400,) (4800,) (4800,)\n",
      "Shape of label train and validation and test tensor: (38400, 6) (4800, 6) (4800, 6)\n"
     ]
    }
   ],
   "source": [
    "print('Shape of X train and X validation and X test tensor:', X_train.shape,X_val.shape,X_test.shape)\n",
    "print('Shape of label train and validation and test tensor:', y_train.shape,y_val.shape,y_test.shape)"
   ]
  },
  {
   "cell_type": "markdown",
   "metadata": {
    "id": "dDuDGtbXAKi1"
   },
   "source": [
    "# Embedding Matrix 만들기 "
   ]
  },
  {
   "cell_type": "code",
   "execution_count": 17,
   "metadata": {
    "id": "1cThvmHmdYJV"
   },
   "outputs": [],
   "source": [
    "def load_word2vec(w2v_path):\n",
    "    # word2vec 모델 불러오기\n",
    "    start = time.time()\n",
    "    print(\"word2vec 모델 불러오기 ... \", end=\"\", flush=True)\n",
    "    w2v_model = word2vec.Word2Vec.load(w2v_path)\n",
    "    print(\"finished in {:.2f} sec.\".format(time.time() - start), flush=True)\n",
    "\n",
    "    # 벡터 노말라이즈 해서 용량 대폭 감소시킴\n",
    "    w2v_model.wv.init_sims(replace=True)\n",
    "\n",
    "    # about model\n",
    "    word_vectors = w2v_model.wv.vectors\n",
    "    word_idxs = w2v_model.wv.index2word\n",
    "    n_words = word_vectors.shape[0]\n",
    "    vec_size = word_vectors.shape[1]\n",
    "    print(\"#words = {0}, vector size = {1}\".format(n_words, vec_size))\n",
    "\n",
    "    return w2v_model"
   ]
  },
  {
   "cell_type": "code",
   "execution_count": 18,
   "metadata": {
    "ExecuteTime": {
     "end_time": "2020-07-31T09:01:42.858356Z",
     "start_time": "2020-07-31T09:01:42.848383Z"
    },
    "colab": {
     "base_uri": "https://localhost:8080/"
    },
    "id": "Av51mwZrAKi2",
    "outputId": "7626bc57-0f87-4268-b74b-9f53bfe3c7c4"
   },
   "outputs": [
    {
     "name": "stdout",
     "output_type": "stream",
     "text": [
      "word2vec 모델 불러오기 ... finished in 6.03 sec.\n",
      "#words = 168620, vector size = 300\n"
     ]
    }
   ],
   "source": [
    "w2v_model = load_word2vec(word2vec_model_path)"
   ]
  },
  {
   "cell_type": "code",
   "execution_count": 19,
   "metadata": {
    "ExecuteTime": {
     "end_time": "2020-07-31T09:01:43.056801Z",
     "start_time": "2020-07-31T09:01:43.051814Z"
    },
    "id": "s2zVOpSNAKi2"
   },
   "outputs": [],
   "source": [
    "# with pretrained model\n",
    "def create_embedding_matrix(w2v_model, word_to_id):\n",
    "    '''\n",
    "    pretrained model이 존재할 때 embedding matrix 만드는법\n",
    "    if 존재하지 않는다면, tf.keras.Embedding layer 사용\n",
    "    '''\n",
    "    \n",
    "    EMBEDDING_DIM = w2v_model.vector_size\n",
    "\n",
    "    embedding_matrix = np.zeros((len(word_to_id)+1, EMBEDDING_DIM))\n",
    "    print(embedding_matrix.shape)\n",
    "\n",
    "    for word, i in word_to_id.items():\n",
    "        try:\n",
    "            embedding_vector = w2v_model.wv[word]\n",
    "            embedding_matrix[i] = embedding_vector\n",
    "        except KeyError:\n",
    "            embedding_matrix[i] = np.random.normal(0,np.sqrt(0.25),EMBEDDING_DIM)\n",
    "            \n",
    "    return embedding_matrix"
   ]
  },
  {
   "cell_type": "code",
   "execution_count": 20,
   "metadata": {
    "ExecuteTime": {
     "end_time": "2020-07-31T09:01:43.314113Z",
     "start_time": "2020-07-31T09:01:43.305137Z"
    },
    "colab": {
     "base_uri": "https://localhost:8080/"
    },
    "id": "ayKEZKK5AKi2",
    "outputId": "f3ccfee3-957b-415f-f4fa-237c7f470a8f"
   },
   "outputs": [
    {
     "name": "stdout",
     "output_type": "stream",
     "text": [
      "(32606, 300)\n"
     ]
    },
    {
     "data": {
      "text/plain": [
       "array([[ 0.        ,  0.        ,  0.        , ...,  0.        ,\n",
       "         0.        ,  0.        ],\n",
       "       [-0.13877146, -0.03067526, -0.07808419, ..., -0.05337833,\n",
       "        -0.0992438 , -0.00218738],\n",
       "       [-0.03504737, -0.12057228,  0.01615535, ...,  0.005222  ,\n",
       "        -0.08698165,  0.06102141],\n",
       "       ...,\n",
       "       [-0.07175221, -0.00734627,  0.06182343, ...,  0.01289047,\n",
       "        -0.0794455 , -0.05950482],\n",
       "       [-0.100761  , -0.00240657, -0.04021017, ..., -0.02537004,\n",
       "        -0.04937122, -0.00842987],\n",
       "       [ 0.03778352, -0.01121587,  0.02718914, ..., -0.00849244,\n",
       "        -0.10924294, -0.0998457 ]])"
      ]
     },
     "execution_count": 20,
     "metadata": {
      "tags": []
     },
     "output_type": "execute_result"
    }
   ],
   "source": [
    "embedding_matrix = create_embedding_matrix(w2v_model, word_to_id)\n",
    "embedding_matrix"
   ]
  },
  {
   "cell_type": "markdown",
   "metadata": {
    "id": "zv0T4RC5AKi3"
   },
   "source": [
    "# CNN 학습"
   ]
  },
  {
   "cell_type": "code",
   "execution_count": 21,
   "metadata": {
    "id": "l4nM1L2EAKi3"
   },
   "outputs": [],
   "source": [
    "EMBEDDING_DIM = 300\n",
    "MAX_SEQUENCE_LENGTH = 20\n",
    "filter_sizes = [3,4,5]\n",
    "num_filters = 100\n",
    "dim_output = 6\n",
    "\n",
    "class textCNN(tf.keras.Model):\n",
    "    \n",
    "    def __init__(self,\n",
    "                 embedding_matrix,\n",
    "                 output_size=dim_output,\n",
    "                 max_sequence_length=MAX_SEQUENCE_LENGTH,\n",
    "                 num_filters=100,\n",
    "                 filter_sizes=[3,4,5],\n",
    "                 drop_prob=0.5,\n",
    "                 train_embedding=False, # Note that we set trainable=False to prevent the weights from being updated during training.\n",
    "                 **kwargs):\n",
    "        super(textCNN,self).__init__(**kwargs) # 표준 매개변수 처리\n",
    "        \n",
    "        self.max_sequence_length = max_sequence_length\n",
    "        self.drop_prob = drop_prob\n",
    "        self.num_filters = num_filters\n",
    "        self.filter_sizes = filter_sizes\n",
    "        self.output_size = output_size\n",
    "\n",
    "        vocab_size, embedding_dim = embedding_matrix.shape\n",
    "        \n",
    "        #### layers\n",
    "        # if using pretrained model to initialize\n",
    "        self.embedding_layer = tf.keras.layers.Embedding(vocab_size,\n",
    "                                                    EMBEDDING_DIM,\n",
    "                                                    embeddings_initializer=tf.keras.initializers.Constant(embedding_matrix),\n",
    "                                                    trainable=train_embedding) \n",
    "\n",
    "        # # if not using pretrained model\n",
    "        # self.embedding_layer = tf.keras.layers.Embedding(len(word_to_id) + 1,\n",
    "        #                                               EMBEDDING_DIM,\n",
    "        #                                               input_length=MAX_SEQUENCE_LENGTH) \n",
    "\n",
    "        self.conv_layers = []\n",
    "        for i,filter_size in enumerate(filter_sizes):\n",
    "            conv_block = tf.keras.Sequential()\n",
    "\n",
    "            conv = tf.keras.layers.Conv2D(num_filters,\n",
    "                                       (filter_size, embedding_dim),\n",
    "                                       padding='VALID', # ignore padding\n",
    "                                       activation='relu',\n",
    "                                       strides=(1,1),\n",
    "                                       name=f'conv_layer_{i}')\n",
    "\n",
    "            pooling = tf.keras.layers.MaxPooling2D((max_sequence_length - filter_size + 1, 1),\n",
    "                                                padding='valid',\n",
    "                                                strides=(1,1),\n",
    "                                                name=f'pooling_layer_{i}')    \n",
    "\n",
    "            conv_block.add(conv)\n",
    "            conv_block.add(pooling)\n",
    "            \n",
    "            self.conv_layers.append(conv_block)\n",
    "            \n",
    "        self.dense = tf.keras.layers.Dense(output_size,\n",
    "                                     activation='softmax',\n",
    "                                     kernel_regularizer=tf.keras.regularizers.l2(0.01),\n",
    "                                     name='prediction')\n",
    "        \n",
    "        self.flatten = tf.keras.layers.Flatten(name='flatten')\n",
    "        self.reshape = tf.keras.layers.Reshape((max_sequence_length, embedding_dim, 1))\n",
    "        self.dropout = tf.keras.layers.Dropout(rate=drop_prob, name='dropout')\n",
    "        \n",
    "    def call(self, inputs, training=None):\n",
    "        \n",
    "        embedding = self.embedding_layer(inputs)\n",
    "        reshape = self.reshape(embedding) #(sequence_length,EMBEDDING_DIM,1)\n",
    "        \n",
    "        pool_outputs = [layer(reshape) for layer in self.conv_layers]\n",
    "        pool_outputs = tf.keras.layers.concatenate(pool_outputs, axis=-1, name='concatenate')\n",
    "        pool_outputs = self.flatten(pool_outputs)\n",
    "        pool_outputs = self.dropout(pool_outputs)\n",
    "\n",
    "        if training:\n",
    "            pool_outputs=self.dropout(pool_outputs)\n",
    "\n",
    "        logit = self.dense(pool_outputs)\n",
    "        \n",
    "        return logit"
   ]
  },
  {
   "cell_type": "code",
   "execution_count": 22,
   "metadata": {
    "id": "l8lwJa0FAKi7"
   },
   "outputs": [],
   "source": [
    "cnn = textCNN(embedding_matrix = embedding_matrix,\n",
    "              max_sequence_length=MAX_SEQUENCE_LENGTH,\n",
    "              output_size = 6)"
   ]
  },
  {
   "cell_type": "code",
   "execution_count": 23,
   "metadata": {
    "id": "m9vsO-WYAKi8"
   },
   "outputs": [],
   "source": [
    "cnn.compile(loss='categorical_crossentropy',\n",
    "            optimizer=tf.keras.optimizers.Adam(learning_rate=0.001),\n",
    "            metrics=['acc'])\n",
    "callbacks = [tf.keras.callbacks.EarlyStopping(monitor='val_loss',patience=30)]"
   ]
  },
  {
   "cell_type": "code",
   "execution_count": 24,
   "metadata": {
    "colab": {
     "base_uri": "https://localhost:8080/"
    },
    "id": "gL10h5ePAKi8",
    "outputId": "2da37574-06f9-4523-f0eb-ddb585614721"
   },
   "outputs": [
    {
     "name": "stdout",
     "output_type": "stream",
     "text": [
      "Epoch 1/50\n",
      "1200/1200 [==============================] - 37s 4ms/step - loss: 1.1345 - acc: 0.6712 - val_loss: 0.5218 - val_acc: 0.8825\n",
      "Epoch 2/50\n",
      "1200/1200 [==============================] - 4s 3ms/step - loss: 0.5499 - acc: 0.8668 - val_loss: 0.4388 - val_acc: 0.8917\n",
      "Epoch 3/50\n",
      "1200/1200 [==============================] - 4s 3ms/step - loss: 0.4641 - acc: 0.8892 - val_loss: 0.4037 - val_acc: 0.8965\n",
      "Epoch 4/50\n",
      "1200/1200 [==============================] - 4s 3ms/step - loss: 0.4171 - acc: 0.8994 - val_loss: 0.3821 - val_acc: 0.9010\n",
      "Epoch 5/50\n",
      "1200/1200 [==============================] - 4s 3ms/step - loss: 0.3910 - acc: 0.9042 - val_loss: 0.3667 - val_acc: 0.9042\n",
      "Epoch 6/50\n",
      "1200/1200 [==============================] - 4s 3ms/step - loss: 0.3642 - acc: 0.9125 - val_loss: 0.3560 - val_acc: 0.9060\n",
      "Epoch 7/50\n",
      "1200/1200 [==============================] - 4s 3ms/step - loss: 0.3525 - acc: 0.9170 - val_loss: 0.3461 - val_acc: 0.9077\n",
      "Epoch 8/50\n",
      "1200/1200 [==============================] - 4s 3ms/step - loss: 0.3255 - acc: 0.9230 - val_loss: 0.3382 - val_acc: 0.9069\n",
      "Epoch 9/50\n",
      "1200/1200 [==============================] - 4s 3ms/step - loss: 0.3176 - acc: 0.9272 - val_loss: 0.3324 - val_acc: 0.9079\n",
      "Epoch 10/50\n",
      "1200/1200 [==============================] - 4s 3ms/step - loss: 0.3083 - acc: 0.9280 - val_loss: 0.3273 - val_acc: 0.9115\n",
      "Epoch 11/50\n",
      "1200/1200 [==============================] - 4s 3ms/step - loss: 0.2978 - acc: 0.9322 - val_loss: 0.3244 - val_acc: 0.9075\n",
      "Epoch 12/50\n",
      "1200/1200 [==============================] - 4s 3ms/step - loss: 0.2866 - acc: 0.9344 - val_loss: 0.3209 - val_acc: 0.9100\n",
      "Epoch 13/50\n",
      "1200/1200 [==============================] - 4s 3ms/step - loss: 0.2816 - acc: 0.9362 - val_loss: 0.3183 - val_acc: 0.9106\n",
      "Epoch 14/50\n",
      "1200/1200 [==============================] - 4s 3ms/step - loss: 0.2780 - acc: 0.9376 - val_loss: 0.3156 - val_acc: 0.9108\n",
      "Epoch 15/50\n",
      "1200/1200 [==============================] - 4s 3ms/step - loss: 0.2698 - acc: 0.9405 - val_loss: 0.3129 - val_acc: 0.9121\n",
      "Epoch 16/50\n",
      "1200/1200 [==============================] - 4s 3ms/step - loss: 0.2623 - acc: 0.9425 - val_loss: 0.3156 - val_acc: 0.9108\n",
      "Epoch 17/50\n",
      "1200/1200 [==============================] - 4s 3ms/step - loss: 0.2483 - acc: 0.9472 - val_loss: 0.3092 - val_acc: 0.9131\n",
      "Epoch 18/50\n",
      "1200/1200 [==============================] - 4s 3ms/step - loss: 0.2525 - acc: 0.9470 - val_loss: 0.3083 - val_acc: 0.9137\n",
      "Epoch 19/50\n",
      "1200/1200 [==============================] - 4s 3ms/step - loss: 0.2386 - acc: 0.9509 - val_loss: 0.3075 - val_acc: 0.9131\n",
      "Epoch 20/50\n",
      "1200/1200 [==============================] - 4s 3ms/step - loss: 0.2394 - acc: 0.9505 - val_loss: 0.3070 - val_acc: 0.9112\n",
      "Epoch 21/50\n",
      "1200/1200 [==============================] - 4s 3ms/step - loss: 0.2318 - acc: 0.9525 - val_loss: 0.3070 - val_acc: 0.9146\n",
      "Epoch 22/50\n",
      "1200/1200 [==============================] - 4s 3ms/step - loss: 0.2322 - acc: 0.9546 - val_loss: 0.3067 - val_acc: 0.9133\n",
      "Epoch 23/50\n",
      "1200/1200 [==============================] - 4s 3ms/step - loss: 0.2318 - acc: 0.9529 - val_loss: 0.3028 - val_acc: 0.9133\n",
      "Epoch 24/50\n",
      "1200/1200 [==============================] - 4s 3ms/step - loss: 0.2234 - acc: 0.9561 - val_loss: 0.3032 - val_acc: 0.9142\n",
      "Epoch 25/50\n",
      "1200/1200 [==============================] - 4s 3ms/step - loss: 0.2147 - acc: 0.9589 - val_loss: 0.3036 - val_acc: 0.9133\n",
      "Epoch 26/50\n",
      "1200/1200 [==============================] - 4s 3ms/step - loss: 0.2160 - acc: 0.9585 - val_loss: 0.3023 - val_acc: 0.9131\n",
      "Epoch 27/50\n",
      "1200/1200 [==============================] - 4s 3ms/step - loss: 0.2095 - acc: 0.9608 - val_loss: 0.2998 - val_acc: 0.9142\n",
      "Epoch 28/50\n",
      "1200/1200 [==============================] - 4s 3ms/step - loss: 0.2046 - acc: 0.9633 - val_loss: 0.3007 - val_acc: 0.9142\n",
      "Epoch 29/50\n",
      "1200/1200 [==============================] - 4s 3ms/step - loss: 0.1996 - acc: 0.9647 - val_loss: 0.3002 - val_acc: 0.9152\n",
      "Epoch 30/50\n",
      "1200/1200 [==============================] - 4s 3ms/step - loss: 0.2036 - acc: 0.9632 - val_loss: 0.2973 - val_acc: 0.9154\n",
      "Epoch 31/50\n",
      "1200/1200 [==============================] - 4s 3ms/step - loss: 0.1970 - acc: 0.9633 - val_loss: 0.2989 - val_acc: 0.9169\n",
      "Epoch 32/50\n",
      "1200/1200 [==============================] - 4s 3ms/step - loss: 0.1973 - acc: 0.9645 - val_loss: 0.2981 - val_acc: 0.9146\n",
      "Epoch 33/50\n",
      "1200/1200 [==============================] - 4s 3ms/step - loss: 0.1911 - acc: 0.9670 - val_loss: 0.2961 - val_acc: 0.9154\n",
      "Epoch 34/50\n",
      "1200/1200 [==============================] - 4s 3ms/step - loss: 0.1894 - acc: 0.9665 - val_loss: 0.2940 - val_acc: 0.9152\n",
      "Epoch 35/50\n",
      "1200/1200 [==============================] - 4s 3ms/step - loss: 0.1783 - acc: 0.9709 - val_loss: 0.2988 - val_acc: 0.9152\n",
      "Epoch 36/50\n",
      "1200/1200 [==============================] - 4s 3ms/step - loss: 0.1900 - acc: 0.9680 - val_loss: 0.2929 - val_acc: 0.9152\n",
      "Epoch 37/50\n",
      "1200/1200 [==============================] - 4s 3ms/step - loss: 0.1821 - acc: 0.9685 - val_loss: 0.2967 - val_acc: 0.9135\n",
      "Epoch 38/50\n",
      "1200/1200 [==============================] - 4s 3ms/step - loss: 0.1812 - acc: 0.9707 - val_loss: 0.2963 - val_acc: 0.9152\n",
      "Epoch 39/50\n",
      "1200/1200 [==============================] - 4s 3ms/step - loss: 0.1767 - acc: 0.9719 - val_loss: 0.2941 - val_acc: 0.9148\n",
      "Epoch 40/50\n",
      "1200/1200 [==============================] - 4s 3ms/step - loss: 0.1755 - acc: 0.9696 - val_loss: 0.2927 - val_acc: 0.9169\n",
      "Epoch 41/50\n",
      "1200/1200 [==============================] - 4s 3ms/step - loss: 0.1714 - acc: 0.9722 - val_loss: 0.2978 - val_acc: 0.9144\n",
      "Epoch 42/50\n",
      "1200/1200 [==============================] - 4s 3ms/step - loss: 0.1686 - acc: 0.9723 - val_loss: 0.2919 - val_acc: 0.9156\n",
      "Epoch 43/50\n",
      "1200/1200 [==============================] - 4s 3ms/step - loss: 0.1678 - acc: 0.9735 - val_loss: 0.2952 - val_acc: 0.9142\n",
      "Epoch 44/50\n",
      "1200/1200 [==============================] - 4s 3ms/step - loss: 0.1670 - acc: 0.9741 - val_loss: 0.2959 - val_acc: 0.9152\n",
      "Epoch 45/50\n",
      "1200/1200 [==============================] - 4s 3ms/step - loss: 0.1625 - acc: 0.9741 - val_loss: 0.2966 - val_acc: 0.9142\n",
      "Epoch 46/50\n",
      "1200/1200 [==============================] - 4s 3ms/step - loss: 0.1612 - acc: 0.9746 - val_loss: 0.2948 - val_acc: 0.9154\n",
      "Epoch 47/50\n",
      "1200/1200 [==============================] - 4s 3ms/step - loss: 0.1609 - acc: 0.9753 - val_loss: 0.2908 - val_acc: 0.9156\n",
      "Epoch 48/50\n",
      "1200/1200 [==============================] - 4s 3ms/step - loss: 0.1591 - acc: 0.9760 - val_loss: 0.2926 - val_acc: 0.9162\n",
      "Epoch 49/50\n",
      "1200/1200 [==============================] - 4s 3ms/step - loss: 0.1576 - acc: 0.9761 - val_loss: 0.2934 - val_acc: 0.9156\n",
      "Epoch 50/50\n",
      "1200/1200 [==============================] - 4s 3ms/step - loss: 0.1561 - acc: 0.9768 - val_loss: 0.2941 - val_acc: 0.9162\n"
     ]
    }
   ],
   "source": [
    " # starts training\n",
    "history = cnn.fit(X_train_padded, y_train,\n",
    "                  batch_size=32, \n",
    "                  epochs=50, \n",
    "                  verbose=1,\n",
    "                  validation_data=(X_val_padded,y_val),\n",
    "                  callbacks=callbacks) "
   ]
  },
  {
   "cell_type": "code",
   "execution_count": 30,
   "metadata": {
    "colab": {
     "base_uri": "https://localhost:8080/"
    },
    "id": "L7MlG6FnAKi8",
    "outputId": "82c41e18-aad3-4481-96be-0f855ff45546"
   },
   "outputs": [
    {
     "name": "stdout",
     "output_type": "stream",
     "text": [
      "Model: \"text_cnn\"\n",
      "_________________________________________________________________\n",
      "Layer (type)                 Output Shape              Param #   \n",
      "=================================================================\n",
      "embedding (Embedding)        multiple                  9781800   \n",
      "_________________________________________________________________\n",
      "sequential (Sequential)      (32, 1, 1, 100)           90100     \n",
      "_________________________________________________________________\n",
      "sequential_1 (Sequential)    (32, 1, 1, 100)           120100    \n",
      "_________________________________________________________________\n",
      "sequential_2 (Sequential)    (32, 1, 1, 100)           150100    \n",
      "_________________________________________________________________\n",
      "prediction (Dense)           multiple                  1806      \n",
      "_________________________________________________________________\n",
      "flatten (Flatten)            multiple                  0         \n",
      "_________________________________________________________________\n",
      "reshape (Reshape)            multiple                  0         \n",
      "_________________________________________________________________\n",
      "dropout (Dropout)            multiple                  0         \n",
      "=================================================================\n",
      "Total params: 10,143,906\n",
      "Trainable params: 362,106\n",
      "Non-trainable params: 9,781,800\n",
      "_________________________________________________________________\n"
     ]
    }
   ],
   "source": [
    "cnn.summary()"
   ]
  },
  {
   "cell_type": "markdown",
   "metadata": {
    "id": "iayZS2K7AKi9"
   },
   "source": [
    "## Result"
   ]
  },
  {
   "cell_type": "code",
   "execution_count": 31,
   "metadata": {
    "colab": {
     "base_uri": "https://localhost:8080/"
    },
    "id": "d8LhfwqtAKi9",
    "outputId": "b5c47ba8-dce0-4f93-bcd9-38fe6110dac0"
   },
   "outputs": [
    {
     "name": "stdout",
     "output_type": "stream",
     "text": [
      "\n",
      "150/150 [==============================] - 0s 3ms/step - loss: 0.3076 - acc: 0.9125\n",
      "\n",
      "loss: 30.76%\n",
      "Accuracy: 91.25%\n"
     ]
    }
   ],
   "source": [
    "# final evaluation of the model\n",
    "print (\"\")\n",
    "scores = cnn.evaluate(X_test_padded, y_test, verbose=1)\n",
    "print (\"\")\n",
    "print (\"loss: %.2f%%\" % (scores[0] * 100))\n",
    "print (\"Accuracy: %.2f%%\" % (scores[1] * 100))"
   ]
  },
  {
   "cell_type": "code",
   "execution_count": 32,
   "metadata": {
    "colab": {
     "base_uri": "https://localhost:8080/",
     "height": 487
    },
    "id": "HQPUXxq2AKi9",
    "outputId": "a4fad850-3955-4cd3-db94-5f3f959cd958"
   },
   "outputs": [
    {
     "data": {
      "image/png": "[encoded data removed]",
      "text/plain": [
       "<Figure size 1008x576 with 1 Axes>"
      ]
     },
     "metadata": {
      "needs_background": "light",
      "tags": []
     },
     "output_type": "display_data"
    }
   ],
   "source": [
    "pd.DataFrame(history.history).plot(figsize=(14,8))\n",
    "plt.grid(True)\n",
    "plt.gca().set_ylim(0,1)\n",
    "plt.savefig('savefig_500dpi.png', dpi=500)"
   ]
  },
  {
   "cell_type": "code",
   "execution_count": 28,
   "metadata": {
    "colab": {
     "base_uri": "https://localhost:8080/"
    },
    "id": "IbId-B_6AKi-",
    "outputId": "b33c2332-405b-494b-82d1-45b1d762560a"
   },
   "outputs": [
    {
     "name": "stdout",
     "output_type": "stream",
     "text": [
      "probability\n",
      "[[0.001 0.001 0.998 0.    0.    0.   ]\n",
      " [0.999 0.    0.    0.    0.    0.   ]\n",
      " [0.    1.    0.    0.    0.    0.   ]\n",
      " ...\n",
      " [0.    0.    0.    0.    1.    0.   ]\n",
      " [0.    1.    0.    0.    0.    0.   ]\n",
      " [0.116 0.068 0.12  0.536 0.052 0.108]]\n",
      "\n",
      "predict\n",
      "['fear' 'angry' 'disgust' ... 'sad' 'disgust' 'happy']\n",
      "\n",
      "감정 개수 별 예측\n",
      "Counter({'disgust': 851, 'happy': 841, 'surprised': 800, 'sad': 774, 'fear': 770, 'angry': 764})\n"
     ]
    }
   ],
   "source": [
    " y_proba = cnn.predict(X_test_padded)\n",
    "print(\"probability\")\n",
    "print(y_proba.round(3))\n",
    "\n",
    "class_names = cat_encoder.categories_[0]\n",
    "y_pred = np.argmax(y_proba,axis=1)\n",
    "print()\n",
    "print(\"predict\")\n",
    "print(class_names[y_pred])\n",
    "print()\n",
    "print(\"감정 개수 별 예측\")\n",
    "print(Counter(class_names[y_pred]))"
   ]
  },
  {
   "cell_type": "markdown",
   "metadata": {
    "id": "drvRG5kKAKi-"
   },
   "source": [
    "---"
   ]
  },
  {
   "cell_type": "markdown",
   "metadata": {
    "id": "kU_sDUB-AKi-"
   },
   "source": [
    "## 모델 저장"
   ]
  },
  {
   "cell_type": "code",
   "execution_count": 33,
   "metadata": {
    "id": "oCnWP2RXTfCo"
   },
   "outputs": [],
   "source": [
    "from keras.models import load_model\n",
    "import os"
   ]
  },
  {
   "cell_type": "code",
   "execution_count": 34,
   "metadata": {
    "id": "GFu_sRlaKaLs"
   },
   "outputs": [],
   "source": [
    "SAVE_MODEL_PATH = \"/content/drive/MyDrive/Dataset 및 Project 정리/daum news and comments (2016 - 2017)/model/20210510 textcnn (epoch 50)\"\n",
    "SAVE_WEIGHT_PATH = \"/content/drive/MyDrive/Dataset 및 Project 정리/daum news and comments (2016 - 2017)/model/20210510 textcnn (epoch 50)/check_point\""
   ]
  },
  {
   "cell_type": "code",
   "execution_count": 35,
   "metadata": {
    "colab": {
     "base_uri": "https://localhost:8080/"
    },
    "id": "Oi3vu-DRKGWn",
    "outputId": "d96c6667-650e-4002-d5d5-ca657a2bdcdb"
   },
   "outputs": [
    {
     "name": "stdout",
     "output_type": "stream",
     "text": [
      "INFO:tensorflow:Assets written to: /content/drive/MyDrive/Dataset 및 Project 정리/daum news and comments (2016 - 2017)/model/20210510 textcnn (epoch 50)/assets\n"
     ]
    }
   ],
   "source": [
    "cnn.save(SAVE_MODEL_PATH)"
   ]
  },
  {
   "cell_type": "code",
   "execution_count": 36,
   "metadata": {
    "id": "XPH47oSQK9ks"
   },
   "outputs": [],
   "source": [
    "# 가중치를 저장합니다\n",
    "cnn.save_weights(SAVE_WEIGHT_PATH)"
   ]
  },
  {
   "cell_type": "code",
   "execution_count": 43,
   "metadata": {
    "id": "SI-x3JddTwRG"
   },
   "outputs": [],
   "source": [
    "SAVE_TOKENIZER = \"/content/drive/MyDrive/Dataset 및 Project 정리/daum news and comments (2016 - 2017)/model/20210510 textcnn (epoch 50)/tokenizer\""
   ]
  },
  {
   "cell_type": "code",
   "execution_count": 44,
   "metadata": {
    "id": "lIXvDyxyTrzz"
   },
   "outputs": [],
   "source": [
    "import pickle\n",
    "\n",
    "# save\n",
    "with open(SAVE_TOKENIZER, 'wb') as f:\n",
    "    pickle.dump(tokenizer, f, pickle.HIGHEST_PROTOCOL)\n",
    "\n",
    "# # load\n",
    "# with open('data.pickle', 'rb') as f:\n",
    "#     data = pickle.load(f)"
   ]
  },
  {
   "cell_type": "markdown",
   "metadata": {
    "id": "6LtGXKc3LXmd"
   },
   "source": [
    "# 모델 불러오기"
   ]
  },
  {
   "cell_type": "code",
   "execution_count": null,
   "metadata": {
    "id": "V-A--qvtLZO9"
   },
   "outputs": [],
   "source": [
    "new_model = tf.keras.models.load_model(SAVE_MODEL_PATH)"
   ]
  },
  {
   "cell_type": "code",
   "execution_count": null,
   "metadata": {
    "id": "5WGTwy9pOfcM"
   },
   "outputs": [],
   "source": [
    "FC_DATA_PATH = \"/content/drive/MyDrive/2020/Lab/Project/[2020.01~] FactCheck News/Data/Result_ver2/00 tokenized/comments_tokenized_wo_exception_emotion (332690) v3.pkl\""
   ]
  },
  {
   "cell_type": "code",
   "execution_count": null,
   "metadata": {
    "id": "7XKTmxJLOsSt"
   },
   "outputs": [],
   "source": [
    "fc_data = pd.read_pickle(FC_DATA_PATH)\n",
    "comment_token_list = fc_data[\"tk_cmts\"].tolist()"
   ]
  },
  {
   "cell_type": "code",
   "execution_count": null,
   "metadata": {
    "id": "gJgIEM_pOeEp"
   },
   "outputs": [],
   "source": [
    "fc_comments_sequence = tokenizer.texts_to_sequences(comment_token_list)\n",
    "fc_padded = pad_sequences(fc_comments_padded, maxlen=MAX_SEQUENCE_LENGTH)"
   ]
  },
  {
   "cell_type": "code",
   "execution_count": null,
   "metadata": {
    "colab": {
     "base_uri": "https://localhost:8080/"
    },
    "id": "iM41aFhQAKi_",
    "outputId": "e4c7bb46-8f7a-44ff-d4b1-7c289bdd6368"
   },
   "outputs": [
    {
     "name": "stdout",
     "output_type": "stream",
     "text": [
      "probability\n",
      "[[0.2  0.11 0.08 0.23 0.25 0.13]\n",
      " [0.16 0.18 0.15 0.19 0.09 0.23]\n",
      " [0.99 0.   0.   0.   0.   0.  ]\n",
      " [0.51 0.11 0.06 0.11 0.13 0.07]\n",
      " [0.29 0.4  0.03 0.12 0.04 0.11]\n",
      " [0.62 0.03 0.02 0.11 0.18 0.04]\n",
      " [0.49 0.1  0.04 0.12 0.15 0.1 ]\n",
      " [0.28 0.08 0.07 0.32 0.18 0.06]\n",
      " [0.19 0.05 0.07 0.45 0.12 0.12]\n",
      " [0.   0.   1.   0.   0.   0.  ]\n",
      " [0.34 0.12 0.04 0.33 0.04 0.12]\n",
      " [0.33 0.27 0.06 0.13 0.1  0.12]\n",
      " [0.11 0.1  0.22 0.11 0.18 0.28]\n",
      " [1.   0.   0.   0.   0.   0.  ]\n",
      " [0.21 0.1  0.17 0.13 0.08 0.3 ]\n",
      " [0.29 0.21 0.08 0.19 0.16 0.07]\n",
      " [0.14 0.1  0.07 0.07 0.07 0.55]\n",
      " [0.   0.   0.   1.   0.   0.  ]\n",
      " [0.15 0.05 0.1  0.09 0.13 0.48]\n",
      " [0.18 0.1  0.11 0.42 0.09 0.11]]\n",
      "\n",
      "predict\n",
      "['sad' 'surprised' 'angry' 'angry' 'disgust' 'angry' 'angry' 'happy'\n",
      " 'happy' 'fear' 'angry' 'angry' 'surprised' 'angry' 'surprised' 'angry'\n",
      " 'surprised' 'happy' 'surprised' 'happy']\n"
     ]
    }
   ],
   "source": [
    "y_proba = new_model.predict(fc_padded[:20])\n",
    "print(\"probability\")\n",
    "print(y_proba.round(2))\n",
    "\n",
    "class_names = cat_encoder.categories_[0]\n",
    "y_pred = np.argmax(y_proba,axis=1)\n",
    "print()\n",
    "print(\"predict\")\n",
    "print(class_names[y_pred])"
   ]
  },
  {
   "cell_type": "code",
   "execution_count": null,
   "metadata": {
    "id": "znK0nMWMPu7d"
   },
   "outputs": [],
   "source": []
  },
  {
   "cell_type": "code",
   "execution_count": null,
   "metadata": {
    "id": "MdVAksvkPu-t"
   },
   "outputs": [],
   "source": []
  },
  {
   "cell_type": "code",
   "execution_count": null,
   "metadata": {
    "id": "KLE5CJuKPvAw"
   },
   "outputs": [],
   "source": []
  }
 ],
 "metadata": {
  "accelerator": "GPU",
  "colab": {
   "collapsed_sections": [],
   "include_colab_link": true,
   "name": "Text CNN 모델 학습하기.ipynb",
   "provenance": [],
   "toc_visible": true
  },
  "kernelspec": {
   "display_name": "Python 3",
   "language": "python",
   "name": "python3"
  },
  "language_info": {
   "codemirror_mode": {
    "name": "ipython",
    "version": 3
   },
   "file_extension": ".py",
   "mimetype": "text/x-python",
   "name": "python",
   "nbconvert_exporter": "python",
   "pygments_lexer": "ipython3",
   "version": "3.7.4"
  },
  "toc": {
   "base_numbering": 1,
   "nav_menu": {},
   "number_sections": true,
   "sideBar": true,
   "skip_h1_title": false,
   "title_cell": "Table of Contents",
   "title_sidebar": "Contents",
   "toc_cell": false,
   "toc_position": {},
   "toc_section_display": true,
   "toc_window_display": false
  },
  "toc-autonumbering": true,
  "varInspector": {
   "cols": {
    "lenName": 16,
    "lenType": 16,
    "lenVar": 40
   },
   "kernels_config": {
    "python": {
     "delete_cmd_postfix": "",
     "delete_cmd_prefix": "del ",
     "library": "var_list.py",
     "varRefreshCmd": "print(var_dic_list())"
    },
    "r": {
     "delete_cmd_postfix": ") ",
     "delete_cmd_prefix": "rm(",
     "library": "var_list.r",
     "varRefreshCmd": "cat(var_dic_list()) "
    }
   },
   "types_to_exclude": [
    "module",
    "function",
    "builtin_function_or_method",
    "instance",
    "_Feature"
   ],
   "window_display": false
  }
 },
 "nbformat": 4,
 "nbformat_minor": 4
}
