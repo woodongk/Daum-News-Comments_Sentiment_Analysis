{
 "cells": [
  {
   "cell_type": "code",
   "execution_count": 2,
   "metadata": {},
   "outputs": [],
   "source": [
    "import numpy as np\n",
    "import pandas as pd\n",
    "import os\n",
    "import tqdm\n",
    "import itertools\n",
    "from collections import Counter\n",
    "\n",
    "import sys\n",
    "sys.path.append('../')\n",
    "\n",
    "from util.text_preprocessing import tokenize_comment"
   ]
  },
  {
   "cell_type": "markdown",
   "metadata": {},
   "source": [
    "# Load Data"
   ]
  },
  {
   "cell_type": "markdown",
   "metadata": {},
   "source": [
    "## 전체 코멘트 불러오기"
   ]
  },
  {
   "cell_type": "code",
   "execution_count": 3,
   "metadata": {},
   "outputs": [
    {
     "data": {
      "text/html": [
       "<div>\n",
       "<style scoped>\n",
       "    .dataframe tbody tr th:only-of-type {\n",
       "        vertical-align: middle;\n",
       "    }\n",
       "\n",
       "    .dataframe tbody tr th {\n",
       "        vertical-align: top;\n",
       "    }\n",
       "\n",
       "    .dataframe thead th {\n",
       "        text-align: right;\n",
       "    }\n",
       "</style>\n",
       "<table border=\"1\" class=\"dataframe\">\n",
       "  <thead>\n",
       "    <tr style=\"text-align: right;\">\n",
       "      <th></th>\n",
       "      <th>comment_id</th>\n",
       "      <th>comment</th>\n",
       "      <th>comment_token</th>\n",
       "    </tr>\n",
       "  </thead>\n",
       "  <tbody>\n",
       "    <tr>\n",
       "      <th>0</th>\n",
       "      <td>F3C2DFCFE9E947B19C8A3053DD5C821B</td>\n",
       "      <td>이국종교수는  외과 야전사령관 이다.  그분의 업무에 차질 없도록 물심양면 으로  ...</td>\n",
       "      <td>[이국, 종, 교수, 외과, 야전, 사령관, 분, 업무, 차질, 없도록, 물, 심양...</td>\n",
       "    </tr>\n",
       "    <tr>\n",
       "      <th>1</th>\n",
       "      <td>61A3B6AAD6124DFFB70EC4275496F8A6</td>\n",
       "      <td>문재인 대통령님과 이국종 교수님, 그리고 귀순병사 모두 건강하시길 빕니다.</td>\n",
       "      <td>[문재인, 대통령, 이국, 종, 교수, 귀순, 병사, 모두, 건강하시길]</td>\n",
       "    </tr>\n",
       "    <tr>\n",
       "      <th>2</th>\n",
       "      <td>B6660EF2C7C14A2F903A08363641CF09</td>\n",
       "      <td>단 한번도 써보지 못했다ㆍ 포인트의 절반만이라도 통신비로 차감을!</td>\n",
       "      <td>[단, 한번, 보지, 포인트, 절반, 통신비, 차감]</td>\n",
       "    </tr>\n",
       "    <tr>\n",
       "      <th>3</th>\n",
       "      <td>C4F129BFB1FD4543A24A03D96F38351D</td>\n",
       "      <td>우리나라 통신업체들  참 쉽게  돈 벌어요</td>\n",
       "      <td>[우리나라, 통신, 업체, 돈]</td>\n",
       "    </tr>\n",
       "    <tr>\n",
       "      <th>4</th>\n",
       "      <td>1A21FDDF151E45DF808F0E5B662E8F3C</td>\n",
       "      <td>진짜 쓸데가너무적다.</td>\n",
       "      <td>[진짜]</td>\n",
       "    </tr>\n",
       "  </tbody>\n",
       "</table>\n",
       "</div>"
      ],
      "text/plain": [
       "                         comment_id  \\\n",
       "0  F3C2DFCFE9E947B19C8A3053DD5C821B   \n",
       "1  61A3B6AAD6124DFFB70EC4275496F8A6   \n",
       "2  B6660EF2C7C14A2F903A08363641CF09   \n",
       "3  C4F129BFB1FD4543A24A03D96F38351D   \n",
       "4  1A21FDDF151E45DF808F0E5B662E8F3C   \n",
       "\n",
       "                                             comment  \\\n",
       "0  이국종교수는  외과 야전사령관 이다.  그분의 업무에 차질 없도록 물심양면 으로  ...   \n",
       "1          문재인 대통령님과 이국종 교수님, 그리고 귀순병사 모두 건강하시길 빕니다.   \n",
       "2               단 한번도 써보지 못했다ㆍ 포인트의 절반만이라도 통신비로 차감을!   \n",
       "3                            우리나라 통신업체들  참 쉽게  돈 벌어요   \n",
       "4                                        진짜 쓸데가너무적다.   \n",
       "\n",
       "                                       comment_token  \n",
       "0  [이국, 종, 교수, 외과, 야전, 사령관, 분, 업무, 차질, 없도록, 물, 심양...  \n",
       "1           [문재인, 대통령, 이국, 종, 교수, 귀순, 병사, 모두, 건강하시길]  \n",
       "2                      [단, 한번, 보지, 포인트, 절반, 통신비, 차감]  \n",
       "3                                  [우리나라, 통신, 업체, 돈]  \n",
       "4                                               [진짜]  "
      ]
     },
     "execution_count": 3,
     "metadata": {},
     "output_type": "execute_result"
    }
   ],
   "source": [
    "total_comments_df = pd.read_pickle(\"dataset/total-comments_tokenized.pkl\")\n",
    "total_comments_df = total_comments_df.loc[:,['comment_id','comment','comment_token']]\n",
    "total_comments_df.head(5)"
   ]
  },
  {
   "cell_type": "markdown",
   "metadata": {},
   "source": [
    "## 감정 사전 만들기\n",
    "- 6 emotion : happy, sad, disgust, angry, surprised, fear\n",
    "- 홍종선, 정연주. (2009). 감정동사의 범주 규정과 유형 분류. 한국어학, 45(), 387-420."
   ]
  },
  {
   "cell_type": "code",
   "execution_count": 4,
   "metadata": {},
   "outputs": [
    {
     "data": {
      "text/html": [
       "<div>\n",
       "<style scoped>\n",
       "    .dataframe tbody tr th:only-of-type {\n",
       "        vertical-align: middle;\n",
       "    }\n",
       "\n",
       "    .dataframe tbody tr th {\n",
       "        vertical-align: top;\n",
       "    }\n",
       "\n",
       "    .dataframe thead th {\n",
       "        text-align: right;\n",
       "    }\n",
       "</style>\n",
       "<table border=\"1\" class=\"dataframe\">\n",
       "  <thead>\n",
       "    <tr style=\"text-align: right;\">\n",
       "      <th></th>\n",
       "      <th>happy</th>\n",
       "      <th>sad</th>\n",
       "      <th>disgust</th>\n",
       "      <th>angry</th>\n",
       "      <th>surprised</th>\n",
       "      <th>fear</th>\n",
       "    </tr>\n",
       "  </thead>\n",
       "  <tbody>\n",
       "    <tr>\n",
       "      <th>0</th>\n",
       "      <td>가뿐하다</td>\n",
       "      <td>가슴앓이</td>\n",
       "      <td>가소롭다</td>\n",
       "      <td>갈기갈기</td>\n",
       "      <td>갑작스럽다</td>\n",
       "      <td>가혹하다</td>\n",
       "    </tr>\n",
       "    <tr>\n",
       "      <th>1</th>\n",
       "      <td>감개무량하다</td>\n",
       "      <td>가엽다</td>\n",
       "      <td>거북하다</td>\n",
       "      <td>개새끼</td>\n",
       "      <td>경악하다</td>\n",
       "      <td>강압적</td>\n",
       "    </tr>\n",
       "    <tr>\n",
       "      <th>2</th>\n",
       "      <td>감격스럽다</td>\n",
       "      <td>가엾다</td>\n",
       "      <td>경박하다</td>\n",
       "      <td>개자식</td>\n",
       "      <td>경이</td>\n",
       "      <td>겁쟁이</td>\n",
       "    </tr>\n",
       "    <tr>\n",
       "      <th>3</th>\n",
       "      <td>감격하다</td>\n",
       "      <td>가혹하다</td>\n",
       "      <td>괴상하다</td>\n",
       "      <td>격노하다</td>\n",
       "      <td>급작스럽다</td>\n",
       "      <td>공포감</td>\n",
       "    </tr>\n",
       "    <tr>\n",
       "      <th>4</th>\n",
       "      <td>감동스럽다</td>\n",
       "      <td>각박하다</td>\n",
       "      <td>괴팍하다</td>\n",
       "      <td>격분하다</td>\n",
       "      <td>기겁하다</td>\n",
       "      <td>공포스럽다</td>\n",
       "    </tr>\n",
       "  </tbody>\n",
       "</table>\n",
       "</div>"
      ],
      "text/plain": [
       "    happy   sad disgust angry surprised   fear\n",
       "0    가뿐하다  가슴앓이    가소롭다  갈기갈기     갑작스럽다   가혹하다\n",
       "1  감개무량하다   가엽다    거북하다   개새끼      경악하다    강압적\n",
       "2   감격스럽다   가엾다    경박하다   개자식        경이    겁쟁이\n",
       "3    감격하다  가혹하다    괴상하다  격노하다     급작스럽다    공포감\n",
       "4   감동스럽다  각박하다    괴팍하다  격분하다      기겁하다  공포스럽다"
      ]
     },
     "execution_count": 4,
     "metadata": {},
     "output_type": "execute_result"
    }
   ],
   "source": [
    "six_emodict_df = pd.read_excel(\"자료/six_emotion_bigram2_0403.xlsx\", encoding = 'utf-8')\n",
    "six_emodict_df.head()"
   ]
  },
  {
   "cell_type": "code",
   "execution_count": 5,
   "metadata": {},
   "outputs": [
    {
     "data": {
      "text/plain": [
       "happy        113\n",
       "sad          174\n",
       "disgust       77\n",
       "angry        110\n",
       "surprised     47\n",
       "fear          38\n",
       "dtype: int64"
      ]
     },
     "execution_count": 5,
     "metadata": {},
     "output_type": "execute_result"
    }
   ],
   "source": [
    "# 감정 별 단어 개수\n",
    "six_emodict_df.count()"
   ]
  },
  {
   "cell_type": "code",
   "execution_count": 6,
   "metadata": {},
   "outputs": [
    {
     "name": "stdout",
     "output_type": "stream",
     "text": [
      "['happy', 'sad', 'disgust', 'angry', 'surprised', 'fear']\n"
     ]
    },
    {
     "data": {
      "text/plain": [
       "['가당찮다', '가증', '갈기갈기', '갈등', '강압']"
      ]
     },
     "execution_count": 6,
     "metadata": {},
     "output_type": "execute_result"
    }
   ],
   "source": [
    "# 감정 리스트에 변수 할당 \n",
    "six_emotion = six_emodict_df.columns.tolist()\n",
    "print(six_emotion)\n",
    "for emo in six_emotion:\n",
    "    # 단어 사전에서 emo_words 받아오기\n",
    "    emo_words = six_emodict_df[emo].dropna().tolist() \n",
    "    # 단어 토큰화, 토큰화 후 nan값 된 단어 제거\n",
    "    emo_words = [tokenize_comment(x)[0] for x in emo_words if len(tokenize_comment(x))>0]\n",
    "    # 중복 제거\n",
    "    emo_words = sorted(list(set(emo_words)))\n",
    "    # 각 감정변수에 차례대로 할당\n",
    "    globals()[emo] = emo_words\n",
    "    \n",
    "angry[:5]"
   ]
  },
  {
   "cell_type": "code",
   "execution_count": 7,
   "metadata": {},
   "outputs": [],
   "source": [
    "bi_happy = [('속','시원하다'),('낯','간지럽다'),('정','들다'),('홀','가분')]\n",
    "\n",
    "bi_sad = [('가슴','아프다'),('기운','없다'),('남','부럽다'),('뒤','숭숭'),('맥','빠지다'),\n",
    "              ('복','받치다'),('뼈','아프다'),('뼈','저리다'),('애','끓다'),('애','닮다'),\n",
    "              ('애','타다'),('처','연하다'),('속','썩다'),('속','앓이'),('속','타다')]\n",
    "\n",
    "bi_disgust =  [('못','밉다'),('정','떨어지다'),('못','마땅하다'),('시','덥다'),('남','부끄럽다'),\n",
    "                   ('징','그렇다'),('뼈','저리다'),('애','끓다'),('애','닮다'),('처','연하다'),\n",
    "                   ('속','썩다'),('속','앓이'),('속','타다')]\n",
    "\n",
    "bi_angry = [('못','되다'),('삐','딱하다'),('비','딱하다'),('약','오르다'),('치','떨리다'),\n",
    "                ('치밀','오르다'),('성','나다'),('못','마땅하다'),('정','떨어지다'),('남','부끄럽다')]\n",
    "\n",
    "bi_surprised = [('기상','천외'),('얼','떨다')]\n",
    "\n",
    "bi_fear = [('뒤','숭숭')]"
   ]
  },
  {
   "cell_type": "markdown",
   "metadata": {},
   "source": [
    "# 코멘트 데이터에 감정 레이블 달기 "
   ]
  },
  {
   "cell_type": "code",
   "execution_count": 8,
   "metadata": {},
   "outputs": [
    {
     "name": "stdout",
     "output_type": "stream",
     "text": [
      "[['가슴', '아프다', '정말'], ['요즘', '상황', '뒤', '숭숭'], ['감동', '스럽다']]\n"
     ]
    }
   ],
   "source": [
    "test = [\"가슴 아프다 정말\", #- sad\n",
    "        \"요즘 상황이 뒤숭숭하다\",#sad fear\n",
    "        \"어어어어엉 우웅우 감동스럽다\"]#happy]\n",
    "        \n",
    "test_token = []\n",
    "for i in test:\n",
    "    test_token.append(tokenize_comment(i))\n",
    "print(test_token)"
   ]
  },
  {
   "cell_type": "markdown",
   "metadata": {},
   "source": [
    "## 댓글에 특정 감정에 해당하는 단어가 등장하면 update\n",
    "\n",
    "- bigram\n",
    "- unigram"
   ]
  },
  {
   "cell_type": "code",
   "execution_count": 9,
   "metadata": {},
   "outputs": [
    {
     "data": {
      "text/plain": [
       "0    [이국, 종, 교수, 외과, 야전, 사령관, 분, 업무, 차질, 없도록, 물, 심양...\n",
       "1             [문재인, 대통령, 이국, 종, 교수, 귀순, 병사, 모두, 건강하시길]\n",
       "2                        [단, 한번, 보지, 포인트, 절반, 통신비, 차감]\n",
       "3                                    [우리나라, 통신, 업체, 돈]\n",
       "4                                                 [진짜]\n",
       "5                                             [포인트, 돈]\n",
       "6                                   [사법, 적폐, 청산, 시급한듯]\n",
       "7                 [자하, 산다, 죽음, 사선, 그대, 대한민국, 에세, 아름다운]\n",
       "8    [당시, 우리, 국군, 미군, 대응, 아주, 공동, 경비, 구역, 모든, 작전, 상...\n",
       "9                             [우리, 국방부, 대응, 문제, 언론, 임]\n",
       "Name: comment_token, dtype: object"
      ]
     },
     "execution_count": 9,
     "metadata": {},
     "output_type": "execute_result"
    }
   ],
   "source": [
    "total_comments_df['comment_token'][:10]"
   ]
  },
  {
   "cell_type": "code",
   "execution_count": 10,
   "metadata": {},
   "outputs": [
    {
     "name": "stdout",
     "output_type": "stream",
     "text": [
      "0.99999958212672424543\r"
     ]
    }
   ],
   "source": [
    "emo_set = [happy, sad, disgust, angry, surprised, fear]\n",
    "emo_bigram_set = [bi_happy, bi_sad, bi_disgust, bi_angry, bi_surprised, bi_fear]\n",
    "\n",
    "check_token_lst = []\n",
    "emo_cnt_lst = []\n",
    "\n",
    "total_num = len(total_comments_df)\n",
    "\n",
    "# comment 돌기\n",
    "for i,comment in enumerate(total_comments_df['comment_token']):\n",
    "    print(i/total_num,end=\"\\r\")\n",
    "    check_token = []\n",
    "    emo_cnt = [0,0,0,0,0,0]\n",
    "    \n",
    "    # bigram 처리\n",
    "    for i, biwords in enumerate(emo_bigram_set):\n",
    "        for a, b in biwords:\n",
    "             if (a in comment) & (b in comment):\n",
    "                check_token.append(a+b)\n",
    "                emo_cnt[i] += 1 \n",
    "\n",
    "    # unigram 처리\n",
    "    for token in comment:\n",
    "        for i, words in enumerate(emo_set):\n",
    "            if token in words:\n",
    "                emo_cnt[i] += 1\n",
    "                check_token.append(token)\n",
    "\n",
    "    check_token_lst.append(check_token)\n",
    "    emo_cnt_lst.append(emo_cnt)"
   ]
  },
  {
   "cell_type": "code",
   "execution_count": 11,
   "metadata": {},
   "outputs": [
    {
     "name": "stderr",
     "output_type": "stream",
     "text": [
      "/Users/kim-woojeong/miniconda/envs/python_workspace/lib/python3.7/site-packages/ipykernel_launcher.py:4: RuntimeWarning: invalid value encountered in true_divide\n",
      "  after removing the cwd from sys.path.\n"
     ]
    }
   ],
   "source": [
    "# 비율로 환산\n",
    "sum_of_emo = np.array(emo_cnt_lst).sum(axis=1,keepdims=True)\n",
    "\n",
    "emo_ratio = np.array(emo_cnt_lst) / sum_of_emo\n",
    "emo_ratio[np.isnan(emo_ratio)] = 0\n",
    "\n",
    "emo_df = pd.DataFrame(emo_ratio,columns = ['happy','sad','disgust','angry','surprised','fear'])"
   ]
  },
  {
   "cell_type": "code",
   "execution_count": 36,
   "metadata": {},
   "outputs": [
    {
     "name": "stdout",
     "output_type": "stream",
     "text": [
      "(400917, 10)\n"
     ]
    },
    {
     "data": {
      "text/html": [
       "<div>\n",
       "<style scoped>\n",
       "    .dataframe tbody tr th:only-of-type {\n",
       "        vertical-align: middle;\n",
       "    }\n",
       "\n",
       "    .dataframe tbody tr th {\n",
       "        vertical-align: top;\n",
       "    }\n",
       "\n",
       "    .dataframe thead th {\n",
       "        text-align: right;\n",
       "    }\n",
       "</style>\n",
       "<table border=\"1\" class=\"dataframe\">\n",
       "  <thead>\n",
       "    <tr style=\"text-align: right;\">\n",
       "      <th></th>\n",
       "      <th>happy</th>\n",
       "      <th>sad</th>\n",
       "      <th>disgust</th>\n",
       "      <th>angry</th>\n",
       "      <th>surprised</th>\n",
       "      <th>fear</th>\n",
       "      <th>comment_id</th>\n",
       "      <th>comment</th>\n",
       "      <th>comment_token</th>\n",
       "      <th>check</th>\n",
       "    </tr>\n",
       "  </thead>\n",
       "  <tbody>\n",
       "    <tr>\n",
       "      <th>6</th>\n",
       "      <td>0.0</td>\n",
       "      <td>0.0</td>\n",
       "      <td>0.0</td>\n",
       "      <td>1.0</td>\n",
       "      <td>0.0</td>\n",
       "      <td>0.0</td>\n",
       "      <td>0DC01BDF77744B58957E7A39F3E98A7B</td>\n",
       "      <td>사법 적폐 청산이 시급한듯 싶네요!</td>\n",
       "      <td>[사법, 적폐, 청산, 시급한듯]</td>\n",
       "      <td>[적폐]</td>\n",
       "    </tr>\n",
       "    <tr>\n",
       "      <th>17</th>\n",
       "      <td>0.0</td>\n",
       "      <td>0.0</td>\n",
       "      <td>0.0</td>\n",
       "      <td>1.0</td>\n",
       "      <td>0.0</td>\n",
       "      <td>0.0</td>\n",
       "      <td>194B2B0BB3A642F1AD0670EED8BFCE46</td>\n",
       "      <td>공동경비구역에서 교전이 벌어지면 뭐가 좋을까? 개무리, 자위당 놈들 비양거리는 소리...</td>\n",
       "      <td>[경비, 구역, 교전, 좋을까, 개, 무리, 자위, 놈, 비양, 거리, 소리]</td>\n",
       "      <td>[놈]</td>\n",
       "    </tr>\n",
       "    <tr>\n",
       "      <th>21</th>\n",
       "      <td>0.0</td>\n",
       "      <td>0.0</td>\n",
       "      <td>0.0</td>\n",
       "      <td>0.0</td>\n",
       "      <td>0.0</td>\n",
       "      <td>1.0</td>\n",
       "      <td>22C76F3161F242A59AF956299EBC41EB</td>\n",
       "      <td>연평도 K9은 북한의 포 공격이 끝나고 난 후에 대응했다. 그것도 잘못인가? 전방부...</td>\n",
       "      <td>[연평도, 은, 북한, 포, 공격, 난, 후, 대응, 그것, 잘못, 방부, 우리, ...</td>\n",
       "      <td>[공포]</td>\n",
       "    </tr>\n",
       "    <tr>\n",
       "      <th>42</th>\n",
       "      <td>0.0</td>\n",
       "      <td>0.0</td>\n",
       "      <td>0.0</td>\n",
       "      <td>0.5</td>\n",
       "      <td>0.5</td>\n",
       "      <td>0.0</td>\n",
       "      <td>38C1F648BB99420C8B8CE1D46461EACF</td>\n",
       "      <td>경고성명? 눈하나 깜짝 안 합니다! 같이 맞대응 사격을 했어야했습니다. 저 CX 들...</td>\n",
       "      <td>[경고, 성명, 눈, 하나, 깜짝, 대응, 사격, 얼마나, 정전협정, 무시, 극단,...</td>\n",
       "      <td>[깜짝, 무시]</td>\n",
       "    </tr>\n",
       "    <tr>\n",
       "      <th>48</th>\n",
       "      <td>0.0</td>\n",
       "      <td>0.0</td>\n",
       "      <td>0.0</td>\n",
       "      <td>1.0</td>\n",
       "      <td>0.0</td>\n",
       "      <td>0.0</td>\n",
       "      <td>C96DC813035A4D3A89317E3433B1DBD2</td>\n",
       "      <td>대한민국의 적폐세력들 : 개정일에게  퍼준 인간들  이를 지금도 따르는 인간들 인터...</td>\n",
       "      <td>[대한민국, 적폐, 세력, 개정, 일, 퍼준, 인간, 지금, 인터넷, 댓글, 횟수,...</td>\n",
       "      <td>[적폐]</td>\n",
       "    </tr>\n",
       "  </tbody>\n",
       "</table>\n",
       "</div>"
      ],
      "text/plain": [
       "    happy  sad  disgust  angry  surprised  fear  \\\n",
       "6     0.0  0.0      0.0    1.0        0.0   0.0   \n",
       "17    0.0  0.0      0.0    1.0        0.0   0.0   \n",
       "21    0.0  0.0      0.0    0.0        0.0   1.0   \n",
       "42    0.0  0.0      0.0    0.5        0.5   0.0   \n",
       "48    0.0  0.0      0.0    1.0        0.0   0.0   \n",
       "\n",
       "                          comment_id  \\\n",
       "6   0DC01BDF77744B58957E7A39F3E98A7B   \n",
       "17  194B2B0BB3A642F1AD0670EED8BFCE46   \n",
       "21  22C76F3161F242A59AF956299EBC41EB   \n",
       "42  38C1F648BB99420C8B8CE1D46461EACF   \n",
       "48  C96DC813035A4D3A89317E3433B1DBD2   \n",
       "\n",
       "                                              comment  \\\n",
       "6                                 사법 적폐 청산이 시급한듯 싶네요!   \n",
       "17  공동경비구역에서 교전이 벌어지면 뭐가 좋을까? 개무리, 자위당 놈들 비양거리는 소리...   \n",
       "21  연평도 K9은 북한의 포 공격이 끝나고 난 후에 대응했다. 그것도 잘못인가? 전방부...   \n",
       "42  경고성명? 눈하나 깜짝 안 합니다! 같이 맞대응 사격을 했어야했습니다. 저 CX 들...   \n",
       "48  대한민국의 적폐세력들 : 개정일에게  퍼준 인간들  이를 지금도 따르는 인간들 인터...   \n",
       "\n",
       "                                        comment_token     check  \n",
       "6                                  [사법, 적폐, 청산, 시급한듯]      [적폐]  \n",
       "17        [경비, 구역, 교전, 좋을까, 개, 무리, 자위, 놈, 비양, 거리, 소리]       [놈]  \n",
       "21  [연평도, 은, 북한, 포, 공격, 난, 후, 대응, 그것, 잘못, 방부, 우리, ...      [공포]  \n",
       "42  [경고, 성명, 눈, 하나, 깜짝, 대응, 사격, 얼마나, 정전협정, 무시, 극단,...  [깜짝, 무시]  \n",
       "48  [대한민국, 적폐, 세력, 개정, 일, 퍼준, 인간, 지금, 인터넷, 댓글, 횟수,...      [적폐]  "
      ]
     },
     "execution_count": 36,
     "metadata": {},
     "output_type": "execute_result"
    }
   ],
   "source": [
    "comment_with_emo = pd.concat([emo_df,\n",
    "                              total_comments_df,\n",
    "                              pd.DataFrame({\"check\":pd.Series(check_token_lst)})],\n",
    "                             sort=False,axis=1)\n",
    "# 최소 1개의 감정단어 등장한 댓글만 뽑기\n",
    "comment_with_emo = comment_with_emo[comment_with_emo['check'].apply(len) > 0]\n",
    "print(comment_with_emo.shape)\n",
    "comment_with_emo.head()"
   ]
  },
  {
   "cell_type": "markdown",
   "metadata": {},
   "source": [
    "2,393,070 개의 댓글 중 40만 개의 댓글이 감정 단어를 보유\n",
    "\n",
    ".... 6개 중 1개 꼴"
   ]
  },
  {
   "cell_type": "code",
   "execution_count": 37,
   "metadata": {},
   "outputs": [
    {
     "data": {
      "text/plain": [
       "8"
      ]
     },
     "execution_count": 37,
     "metadata": {},
     "output_type": "execute_result"
    }
   ],
   "source": [
    "comment_with_emo['check'].apply(len).max()"
   ]
  },
  {
   "cell_type": "code",
   "execution_count": 38,
   "metadata": {},
   "outputs": [
    {
     "data": {
      "text/html": [
       "<div>\n",
       "<style scoped>\n",
       "    .dataframe tbody tr th:only-of-type {\n",
       "        vertical-align: middle;\n",
       "    }\n",
       "\n",
       "    .dataframe tbody tr th {\n",
       "        vertical-align: top;\n",
       "    }\n",
       "\n",
       "    .dataframe thead th {\n",
       "        text-align: right;\n",
       "    }\n",
       "</style>\n",
       "<table border=\"1\" class=\"dataframe\">\n",
       "  <thead>\n",
       "    <tr style=\"text-align: right;\">\n",
       "      <th></th>\n",
       "      <th>happy</th>\n",
       "      <th>sad</th>\n",
       "      <th>disgust</th>\n",
       "      <th>angry</th>\n",
       "      <th>surprised</th>\n",
       "      <th>fear</th>\n",
       "      <th>comment_id</th>\n",
       "      <th>comment</th>\n",
       "      <th>comment_token</th>\n",
       "      <th>check</th>\n",
       "    </tr>\n",
       "  </thead>\n",
       "  <tbody>\n",
       "    <tr>\n",
       "      <th>517667</th>\n",
       "      <td>0.125</td>\n",
       "      <td>0.125</td>\n",
       "      <td>0.375</td>\n",
       "      <td>0.375</td>\n",
       "      <td>0.0</td>\n",
       "      <td>0.0</td>\n",
       "      <td>4412ACD1918C416AB7C71A1D4B9C07F1</td>\n",
       "      <td>네티즌들은 언제부턴가 권력적이고 보수적이 되어버렸다. 자신들보다 어리숙해보이고 도덕...</td>\n",
       "      <td>[네티즌, 언제, 권력, 보수, 자신, 어리숙해, 보이, 도덕, 보이지, 버는것, ...</td>\n",
       "      <td>[혐오, 증오, 증오, 울분, 울분, 불만, 불만, 기분]</td>\n",
       "    </tr>\n",
       "    <tr>\n",
       "      <th>2318905</th>\n",
       "      <td>0.000</td>\n",
       "      <td>0.000</td>\n",
       "      <td>0.375</td>\n",
       "      <td>0.625</td>\n",
       "      <td>0.0</td>\n",
       "      <td>0.0</td>\n",
       "      <td>F028851C98E34ACBB521E074B13A92CD</td>\n",
       "      <td>공부를 못하면 개돼지 소리를 듣고, 공부를 잘하면 개돼지 소리를 내뱉는 놈이 된다....</td>\n",
       "      <td>[공부, 개돼지, 소리, 놈, 나라, 교육, 완전히, 자사고, 외고, 폐지, 문제,...</td>\n",
       "      <td>[놈, 새끼, 혐오, 모욕, 증오, 증오, 불만, 불만]</td>\n",
       "    </tr>\n",
       "  </tbody>\n",
       "</table>\n",
       "</div>"
      ],
      "text/plain": [
       "         happy    sad  disgust  angry  surprised  fear  \\\n",
       "517667   0.125  0.125    0.375  0.375        0.0   0.0   \n",
       "2318905  0.000  0.000    0.375  0.625        0.0   0.0   \n",
       "\n",
       "                               comment_id  \\\n",
       "517667   4412ACD1918C416AB7C71A1D4B9C07F1   \n",
       "2318905  F028851C98E34ACBB521E074B13A92CD   \n",
       "\n",
       "                                                   comment  \\\n",
       "517667   네티즌들은 언제부턴가 권력적이고 보수적이 되어버렸다. 자신들보다 어리숙해보이고 도덕...   \n",
       "2318905  공부를 못하면 개돼지 소리를 듣고, 공부를 잘하면 개돼지 소리를 내뱉는 놈이 된다....   \n",
       "\n",
       "                                             comment_token  \\\n",
       "517667   [네티즌, 언제, 권력, 보수, 자신, 어리숙해, 보이, 도덕, 보이지, 버는것, ...   \n",
       "2318905  [공부, 개돼지, 소리, 놈, 나라, 교육, 완전히, 자사고, 외고, 폐지, 문제,...   \n",
       "\n",
       "                                    check  \n",
       "517667   [혐오, 증오, 증오, 울분, 울분, 불만, 불만, 기분]  \n",
       "2318905   [놈, 새끼, 혐오, 모욕, 증오, 증오, 불만, 불만]  "
      ]
     },
     "execution_count": 38,
     "metadata": {},
     "output_type": "execute_result"
    }
   ],
   "source": [
    "comment_with_emo[comment_with_emo['check'].apply(len)==8]"
   ]
  },
  {
   "cell_type": "markdown",
   "metadata": {},
   "source": [
    "## 감정 단어 보유 비율에 따라 labeling"
   ]
  },
  {
   "cell_type": "code",
   "execution_count": 39,
   "metadata": {},
   "outputs": [],
   "source": [
    "def label_with_major_emotion(df, ratio):\n",
    "    over_index = np.where((df.happy > ratio) |\n",
    "                          (df.sad > ratio) |\n",
    "                          (df.disgust > ratio) |\n",
    "                          (df.angry > ratio) |\n",
    "               hhhyyy/            (df.surprised > ratio) |\n",
    "                          (df.fear > ratio))[0]\n",
    "\n",
    "    over_df = df.iloc[over_index.tolist(),:]\n",
    "\n",
    "    # Skipna = True will skip all the Na values \n",
    "    # find maximum along column axis \n",
    "    over_df['emotion'] = over_df.iloc[:,:6].idxmax(axis = 1, skipna = True)\n",
    "    print(Counter(over_df.emotion))\n",
    "    \n",
    "    return over_df"
   ]
  },
  {
   "cell_type": "code",
   "execution_count": 41,
   "metadata": {},
   "outputs": [
    {
     "name": "stderr",
     "output_type": "stream",
     "text": [
      "/Users/kim-woojeong/miniconda/envs/python_workspace/lib/python3.7/site-packages/ipykernel_launcher.py:13: SettingWithCopyWarning: \n",
      "A value is trying to be set on a copy of a slice from a DataFrame.\n",
      "Try using .loc[row_indexer,col_indexer] = value instead\n",
      "\n",
      "See the caveats in the documentation: http://pandas.pydata.org/pandas-docs/stable/user_guide/indexing.html#returning-a-view-versus-a-copy\n",
      "  del sys.path[0]\n"
     ]
    },
    {
     "name": "stdout",
     "output_type": "stream",
     "text": [
      "Counter({'angry': 234772, 'sad': 73216, 'happy': 32693, 'disgust': 12806, 'surprised': 7036, 'fear': 5636})\n"
     ]
    }
   ],
   "source": [
    "label_with_major_emotion(comment_with_emo, 0.5).to_pickle(\"dataset/comment_with_emo_over0.5.pkl\")"
   ]
  },
  {
   "cell_type": "code",
   "execution_count": null,
   "metadata": {},
   "outputs": [],
   "source": []
  },
  {
   "cell_type": "code",
   "execution_count": null,
   "metadata": {},
   "outputs": [],
   "source": []
  },
  {
   "cell_type": "code",
   "execution_count": null,
   "metadata": {},
   "outputs": [],
   "source": []
  },
  {
   "cell_type": "code",
   "execution_count": null,
   "metadata": {},
   "outputs": [],
   "source": []
  },
  {
   "cell_type": "code",
   "execution_count": null,
   "metadata": {},
   "outputs": [],
   "source": []
  },
  {
   "cell_type": "code",
   "execution_count": null,
   "metadata": {},
   "outputs": [],
   "source": []
  },
  {
   "cell_type": "code",
   "execution_count": null,
   "metadata": {},
   "outputs": [],
   "source": []
  },
  {
   "cell_type": "code",
   "execution_count": null,
   "metadata": {},
   "outputs": [],
   "source": []
  },
  {
   "cell_type": "code",
   "execution_count": null,
   "metadata": {},
   "outputs": [],
   "source": []
  }
 ],
 "metadata": {
  "kernelspec": {
   "display_name": "Python 3",
   "language": "python",
   "name": "python3"
  },
  "language_info": {
   "codemirror_mode": {
    "name": "ipython",
    "version": 3
   },
   "file_extension": ".py",
   "mimetype": "text/x-python",
   "name": "python",
   "nbconvert_exporter": "python",
   "pygments_lexer": "ipython3",
   "version": "3.7.4"
  },
  "toc-autonumbering": true
 },
 "nbformat": 4,
 "nbformat_minor": 4
}
