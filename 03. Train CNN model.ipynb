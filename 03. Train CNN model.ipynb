{
 "cells": [
  {
   "cell_type": "code",
   "execution_count": 181,
   "metadata": {
    "ExecuteTime": {
     "end_time": "2020-07-14T04:44:43.149289Z",
     "start_time": "2020-07-14T04:44:41.208871Z"
    }
   },
   "outputs": [],
   "source": [
    "import pandas as pd\n",
    "import numpy as np\n",
    "import pickle\n",
    "import codecs\n",
    "import time\n",
    "from itertools import chain\n",
    "from collections import Counter\n",
    "\n",
    "import matplotlib.pyplot as plt\n",
    "\n",
    "from sklearn.utils import shuffle\n",
    "from gensim.models import word2vec\n",
    "from gensim.models import FastText\n",
    "from gensim.test.utils import get_tmpfile\n",
    "\n",
    "from sklearn.preprocessing import LabelEncoder, OneHotEncoder\n",
    "from sklearn.model_selection import train_test_split\n",
    "\n",
    "import sys\n",
    "sys.path.append(\"util\")\n",
    "from util.text_preprocessing import preprocess\n",
    "from util.load_data import load_word2vec\n",
    "\n",
    "from tensorflow import keras"
   ]
  },
  {
   "cell_type": "markdown",
   "metadata": {},
   "source": [
    "# Reference\n",
    "\n",
    "- Kim, Y. (2014). Convolutional neural networks for sentence classification. arXiv preprint arXiv:1408.5882.\n",
    "\n",
    "<img src = \"자료/textCNN model architecture.png\" width=\"800\" align=\"center\" ></img>>"
   ]
  },
  {
   "cell_type": "markdown",
   "metadata": {},
   "source": [
    "# 1. 감정 댓글 불러오기"
   ]
  },
  {
   "cell_type": "code",
   "execution_count": 2,
   "metadata": {
    "ExecuteTime": {
     "end_time": "2020-07-14T04:45:29.540906Z",
     "start_time": "2020-07-14T04:45:29.536916Z"
    }
   },
   "outputs": [],
   "source": [
    "word2vec_path = \"dataset/embedding_model/0710 w2v_model\"\n",
    "data_path = 'dataset/final_data/0710 comment_with_emo_over0.5.pkl'"
   ]
  },
  {
   "cell_type": "code",
   "execution_count": 3,
   "metadata": {
    "ExecuteTime": {
     "end_time": "2020-07-14T04:45:35.616456Z",
     "start_time": "2020-07-14T04:45:32.080798Z"
    },
    "scrolled": true
   },
   "outputs": [
    {
     "name": "stdout",
     "output_type": "stream",
     "text": [
      "emotion_comment_df:  (408607, 11)\n"
     ]
    },
    {
     "data": {
      "text/html": [
       "<div>\n",
       "<style scoped>\n",
       "    .dataframe tbody tr th:only-of-type {\n",
       "        vertical-align: middle;\n",
       "    }\n",
       "\n",
       "    .dataframe tbody tr th {\n",
       "        vertical-align: top;\n",
       "    }\n",
       "\n",
       "    .dataframe thead th {\n",
       "        text-align: right;\n",
       "    }\n",
       "</style>\n",
       "<table border=\"1\" class=\"dataframe\">\n",
       "  <thead>\n",
       "    <tr style=\"text-align: right;\">\n",
       "      <th></th>\n",
       "      <th>happy</th>\n",
       "      <th>sad</th>\n",
       "      <th>disgust</th>\n",
       "      <th>angry</th>\n",
       "      <th>surprised</th>\n",
       "      <th>fear</th>\n",
       "      <th>comment_id</th>\n",
       "      <th>comment</th>\n",
       "      <th>comment_token</th>\n",
       "      <th>check</th>\n",
       "      <th>emotion</th>\n",
       "    </tr>\n",
       "  </thead>\n",
       "  <tbody>\n",
       "    <tr>\n",
       "      <th>1225235</th>\n",
       "      <td>0.0</td>\n",
       "      <td>0.0</td>\n",
       "      <td>1.0</td>\n",
       "      <td>0.0</td>\n",
       "      <td>0.0</td>\n",
       "      <td>0.0</td>\n",
       "      <td>B352DA0BB0AB45689E1904A668E4E70B</td>\n",
       "      <td>연합 정말 실망이네. 아베가 먼저하고 트럼프가 따라하는데..</td>\n",
       "      <td>[연합, 정말, 실망, 아베, 먼저, 트럼프, 따르다]</td>\n",
       "      <td>[실망]</td>\n",
       "      <td>disgust</td>\n",
       "    </tr>\n",
       "    <tr>\n",
       "      <th>123565</th>\n",
       "      <td>0.0</td>\n",
       "      <td>1.0</td>\n",
       "      <td>0.0</td>\n",
       "      <td>0.0</td>\n",
       "      <td>0.0</td>\n",
       "      <td>0.0</td>\n",
       "      <td>56A6AC3C9C824715A643EB5B4F1D84C8</td>\n",
       "      <td>지금 북한보다 이스라엘 상황이 더 심각한거 같은데??</td>\n",
       "      <td>[지금, 북한, 이스라엘, 상황, 더, 심각하다, 같다]</td>\n",
       "      <td>[심각하다]</td>\n",
       "      <td>sad</td>\n",
       "    </tr>\n",
       "    <tr>\n",
       "      <th>881538</th>\n",
       "      <td>0.0</td>\n",
       "      <td>0.0</td>\n",
       "      <td>0.0</td>\n",
       "      <td>1.0</td>\n",
       "      <td>0.0</td>\n",
       "      <td>0.0</td>\n",
       "      <td>94010587120A49C19C26E78959FA1A5B</td>\n",
       "      <td>꺼져!</td>\n",
       "      <td>[꺼지다]</td>\n",
       "      <td>[꺼지다]</td>\n",
       "      <td>angry</td>\n",
       "    </tr>\n",
       "    <tr>\n",
       "      <th>1026902</th>\n",
       "      <td>0.0</td>\n",
       "      <td>1.0</td>\n",
       "      <td>0.0</td>\n",
       "      <td>0.0</td>\n",
       "      <td>0.0</td>\n",
       "      <td>0.0</td>\n",
       "      <td>04495624FD9C4E4DA446FA8F0E6BAE19</td>\n",
       "      <td>미안하면 젊은사람 자리나 뺏지말던가  젊은사람들 염장지르나 염병할</td>\n",
       "      <td>[미안하다, 젊다, 사람, 자리, 뺏다, 젊다, 사람, 염장, 지르다, 염병할]</td>\n",
       "      <td>[미안하다]</td>\n",
       "      <td>sad</td>\n",
       "    </tr>\n",
       "    <tr>\n",
       "      <th>944276</th>\n",
       "      <td>0.0</td>\n",
       "      <td>0.0</td>\n",
       "      <td>0.0</td>\n",
       "      <td>1.0</td>\n",
       "      <td>0.0</td>\n",
       "      <td>0.0</td>\n",
       "      <td>FDAF8B171AE8496AA1F7B2A9AC792037</td>\n",
       "      <td>개돼지만도 못한 인간쓰레기... 이런 쓰레기를 감싸면 똑같겠죠?</td>\n",
       "      <td>[개돼지, 못, 인간, 쓰레기, 이렇다, 쓰레기, 감싸다, 똑같다]</td>\n",
       "      <td>[쓰레기, 쓰레기]</td>\n",
       "      <td>angry</td>\n",
       "    </tr>\n",
       "  </tbody>\n",
       "</table>\n",
       "</div>"
      ],
      "text/plain": [
       "         happy  sad  disgust  angry  surprised  fear  \\\n",
       "1225235    0.0  0.0      1.0    0.0        0.0   0.0   \n",
       "123565     0.0  1.0      0.0    0.0        0.0   0.0   \n",
       "881538     0.0  0.0      0.0    1.0        0.0   0.0   \n",
       "1026902    0.0  1.0      0.0    0.0        0.0   0.0   \n",
       "944276     0.0  0.0      0.0    1.0        0.0   0.0   \n",
       "\n",
       "                               comment_id  \\\n",
       "1225235  B352DA0BB0AB45689E1904A668E4E70B   \n",
       "123565   56A6AC3C9C824715A643EB5B4F1D84C8   \n",
       "881538   94010587120A49C19C26E78959FA1A5B   \n",
       "1026902  04495624FD9C4E4DA446FA8F0E6BAE19   \n",
       "944276   FDAF8B171AE8496AA1F7B2A9AC792037   \n",
       "\n",
       "                                      comment  \\\n",
       "1225235     연합 정말 실망이네. 아베가 먼저하고 트럼프가 따라하는데..   \n",
       "123565          지금 북한보다 이스라엘 상황이 더 심각한거 같은데??   \n",
       "881538                                    꺼져!   \n",
       "1026902  미안하면 젊은사람 자리나 뺏지말던가  젊은사람들 염장지르나 염병할   \n",
       "944276    개돼지만도 못한 인간쓰레기... 이런 쓰레기를 감싸면 똑같겠죠?   \n",
       "\n",
       "                                        comment_token       check  emotion  \n",
       "1225235                [연합, 정말, 실망, 아베, 먼저, 트럼프, 따르다]        [실망]  disgust  \n",
       "123565                [지금, 북한, 이스라엘, 상황, 더, 심각하다, 같다]      [심각하다]      sad  \n",
       "881538                                          [꺼지다]       [꺼지다]    angry  \n",
       "1026902  [미안하다, 젊다, 사람, 자리, 뺏다, 젊다, 사람, 염장, 지르다, 염병할]      [미안하다]      sad  \n",
       "944276          [개돼지, 못, 인간, 쓰레기, 이렇다, 쓰레기, 감싸다, 똑같다]  [쓰레기, 쓰레기]    angry  "
      ]
     },
     "metadata": {},
     "output_type": "display_data"
    }
   ],
   "source": [
    "emotion_comment_df = pd.read_pickle(data_path)\n",
    "    \n",
    "print(\"emotion_comment_df: \", emotion_comment_df.shape)\n",
    "display(emotion_comment_df.sample(5))"
   ]
  },
  {
   "cell_type": "code",
   "execution_count": 4,
   "metadata": {},
   "outputs": [
    {
     "name": "stdout",
     "output_type": "stream",
     "text": [
      "샘플링 전 : Counter({'angry': 240971, 'sad': 83041, 'happy': 44682, 'disgust': 17263, 'fear': 14649, 'surprised': 8001})\n",
      "\n",
      "샘플링 이후 : Counter({'angry': 8000, 'disgust': 8000, 'fear': 8000, 'happy': 8000, 'sad': 8000, 'surprised': 8000})\n"
     ]
    }
   ],
   "source": [
    "print(\"샘플링 전 :\",Counter(emotion_comment_df.emotion))\n",
    "print()\n",
    "\n",
    "# 각 감정별로 셔플한 다음 8,000개씩 부여 (Train = 85% / Test = 15%)\n",
    "sample_count = 8000\n",
    "\n",
    "sampled_emo_cmt_df = (\n",
    "    emotion_comment_df.groupby('emotion').apply(\n",
    "        lambda d: shuffle(d, random_state=42, n_samples=sample_count)).reset_index(drop=True)\n",
    ")\n",
    "\n",
    "print(\"샘플링 이후 :\",Counter(sampled_emo_cmt_df.emotion))"
   ]
  },
  {
   "cell_type": "markdown",
   "metadata": {},
   "source": [
    "**균등한 데이터셋 분포를 위해 사전에 감정 별 데이터 크기를 동일하게 맞춤**"
   ]
  },
  {
   "cell_type": "markdown",
   "metadata": {},
   "source": [
    "# 2. Text Encoding\n",
    "\n",
    "- 모든 단어를 정수로 인코딩\n",
    "- 케라스의 `Tokenizer` 클래스 사용\n",
    "- 모든 단어를 각기 다른 단어 ID에 매핑. ID는 1부터 시작해 고유한 단어 개수까지 생성 (**마스킹에 사용하기 때문에 0부터 시작하지 않음**)"
   ]
  },
  {
   "cell_type": "code",
   "execution_count": 5,
   "metadata": {},
   "outputs": [
    {
     "name": "stdout",
     "output_type": "stream",
     "text": [
      "sample data :  ['멀다', '놈', '기사', '도통', '내용', '뭐', '알다', '없다']\n",
      "texts to sequences ===> [[449, 18, 52, 8897, 729, 35, 28, 3]]\n",
      "sequences to texts ===> ['있다 되다 없다 보다 아니다']\n",
      "\n",
      "고유 단어 개수 : 35670, 전체 댓글 개수 : 48000\n"
     ]
    }
   ],
   "source": [
    "emotion_token_list = sampled_emo_cmt_df[\"comment_token\"].tolist()\n",
    "\n",
    "\n",
    "# 모든 글자를 정수 ID로 인코딩\n",
    "def word_to_id(token_list):\n",
    "    print(\"sample data : \",token_list[0])\n",
    "    tokenizer = keras.preprocessing.text.Tokenizer()\n",
    "    tokenizer.fit_on_texts(token_list)\n",
    "    print(\"texts to sequences ===>\",tokenizer.texts_to_sequences([token_list[0]]))\n",
    "    print(\"sequences to texts ===>\",tokenizer.sequences_to_texts([[1,2,3,4,5]])) \n",
    "    print()\n",
    "    \n",
    "    word_to_id = tokenizer.word_index\n",
    "    id_to_word = tokenizer.index_word\n",
    "    \n",
    "    print(\"고유 단어 개수 : {}, 전체 댓글 개수 : {}\".format(len(word_to_id), tokenizer.document_count))\n",
    "    \n",
    "    encoded_tokens = []\n",
    "    for token in token_list:\n",
    "        encoded_tokens.append(tokenizer.texts_to_sequences([token])[0])\n",
    "    \n",
    "    return encoded_tokens, word_to_id, id_to_word\n",
    "    \n",
    "encoded_tokens, word_to_id, id_to_word = word_to_id(emotion_token_list)"
   ]
  },
  {
   "cell_type": "code",
   "execution_count": 110,
   "metadata": {},
   "outputs": [
    {
     "name": "stdout",
     "output_type": "stream",
     "text": [
      "Shape of data tensor: (48000, 20)\n",
      "Shape of label tensor: (48000, 6)\n",
      "\n",
      "[array(['angry', 'disgust', 'fear', 'happy', 'sad', 'surprised'],\n",
      "      dtype=object)]\n",
      "[[1. 0. 0. 0. 0. 0.]\n",
      " [1. 0. 0. 0. 0. 0.]\n",
      " [1. 0. 0. 0. 0. 0.]\n",
      " ...\n",
      " [0. 0. 0. 0. 0. 1.]\n",
      " [0. 0. 0. 0. 0. 1.]\n",
      " [0. 0. 0. 0. 0. 1.]]\n"
     ]
    }
   ],
   "source": [
    "# X (padding)\n",
    "\n",
    "MAX_SEQUENCE_LENGTH = 20\n",
    "\n",
    "data = keras.preprocessing.sequence.pad_sequences(encoded_tokens, maxlen=MAX_SEQUENCE_LENGTH)\n",
    "\n",
    "# y (one-hot encoding labels)\n",
    "\n",
    "cat_encoder = OneHotEncoder()\n",
    "labels = cat_encoder.fit_transform(sampled_emo_cmt_df[['emotion']]).toarray()\n",
    "\n",
    "print('Shape of data tensor:', data.shape)\n",
    "print('Shape of label tensor:', labels.shape)\n",
    "print()\n",
    "print(cat_encoder.categories_)\n",
    "print(labels)"
   ]
  },
  {
   "cell_type": "markdown",
   "metadata": {},
   "source": [
    "# 3.Embedding Matrix 만들기 "
   ]
  },
  {
   "cell_type": "code",
   "execution_count": 111,
   "metadata": {
    "ExecuteTime": {
     "end_time": "2020-07-14T04:47:29.797808Z",
     "start_time": "2020-07-14T04:47:25.449607Z"
    }
   },
   "outputs": [
    {
     "name": "stdout",
     "output_type": "stream",
     "text": [
      "word2vec 모델 불러오기 ... finished in 7.49 sec.\n",
      "#words = 168620, vector size = 300\n"
     ]
    }
   ],
   "source": [
    "w2v_model = load_word2vec(word2vec_path)"
   ]
  },
  {
   "cell_type": "code",
   "execution_count": 112,
   "metadata": {},
   "outputs": [],
   "source": [
    "# with pretrained model\n",
    "def create_embedding_matrix(w2v_model, word_to_id):\n",
    "    '''\n",
    "    pretrained model이 존재할 때 embedding matrix 만드는법\n",
    "    if 존재하지 않는다면, keras.Embedding layer 사용\n",
    "    '''\n",
    "    \n",
    "    EMBEDDING_DIM = w2v_model.vector_size\n",
    "\n",
    "    embedding_matrix = np.zeros((len(word_to_id)+1, EMBEDDING_DIM))\n",
    "    print(embedding_matrix.shape)\n",
    "\n",
    "    for word, i in word_to_id.items():\n",
    "        try:\n",
    "            embedding_vector = w2v_model.wv[word]\n",
    "            embedding_matrix[i] = embedding_vector\n",
    "        except KeyError:\n",
    "            embedding_matrix[i] = np.random.normal(0,np.sqrt(0.25),EMBEDDING_DIM)\n",
    "            \n",
    "    return embedding_matrix"
   ]
  },
  {
   "cell_type": "code",
   "execution_count": 113,
   "metadata": {},
   "outputs": [
    {
     "name": "stdout",
     "output_type": "stream",
     "text": [
      "(35671, 300)\n"
     ]
    },
    {
     "data": {
      "text/plain": [
       "array([[ 0.        ,  0.        ,  0.        , ...,  0.        ,\n",
       "         0.        ,  0.        ],\n",
       "       [-0.13877146, -0.03067526, -0.07808419, ..., -0.05337833,\n",
       "        -0.0992438 , -0.00218738],\n",
       "       [-0.03504737, -0.12057228,  0.01615535, ...,  0.005222  ,\n",
       "        -0.08698165,  0.06102141],\n",
       "       ...,\n",
       "       [ 0.04774499,  0.08327273,  0.00324909, ..., -0.05244453,\n",
       "        -0.05709571, -0.09028624],\n",
       "       [-0.05991533, -0.03845508, -0.01238701, ..., -0.00123169,\n",
       "        -0.07324471, -0.04061742],\n",
       "       [-0.11260591, -0.00158114,  0.01082337, ...,  0.00661842,\n",
       "        -0.05145192, -0.09587358]])"
      ]
     },
     "execution_count": 113,
     "metadata": {},
     "output_type": "execute_result"
    }
   ],
   "source": [
    "embedding_matrix = create_embedding_matrix(w2v_model, word_to_id)\n",
    "embedding_matrix"
   ]
  },
  {
   "cell_type": "code",
   "execution_count": 126,
   "metadata": {},
   "outputs": [
    {
     "name": "stdout",
     "output_type": "stream",
     "text": [
      "\t\t\tFeature Shapes:\n",
      "Train set: \t\t(38400, 20) \n",
      "Validation set: \t(4800, 20) \n",
      "Test set: \t\t(4800, 20)\n"
     ]
    }
   ],
   "source": [
    "# shuffle data \n",
    "\n",
    "indices = np.arange(data.shape[0])\n",
    "np.random.shuffle(indices)\n",
    "\n",
    "data = data[indices]\n",
    "labels = labels[indices]\n",
    "\n",
    "# split the data into a training set and a validation set \n",
    "\n",
    "VALIDATION_SPLIT = 0.2\n",
    "nb_validation_samples = int(VALIDATION_SPLIT * data.shape[0])\n",
    "\n",
    "split_idx = int(len(data)*split_frac)\n",
    "X_train, remaining_x = data[:split_idx], data[split_idx:]\n",
    "y_train, remaining_y = labels[:split_idx], labels[split_idx:]\n",
    "\n",
    "test_idx = int(len(remaining_x)*0.5)\n",
    "X_val, X_test = remaining_x[:test_idx], remaining_x[test_idx:]\n",
    "y_val, y_test = remaining_y[:test_idx], remaining_y[test_idx:]\n",
    "\n",
    "## print out the shapes of your resultant feature data\n",
    "print(\"\\t\\t\\tFeature Shapes:\")\n",
    "print(\"Train set: \\t\\t{}\".format(X_train.shape), \n",
    "      \"\\nValidation set: \\t{}\".format(X_val.shape),\n",
    "      \"\\nTest set: \\t\\t{}\".format(X_test.shape))"
   ]
  },
  {
   "cell_type": "markdown",
   "metadata": {},
   "source": [
    "# 4. CNN 학습"
   ]
  },
  {
   "cell_type": "code",
   "execution_count": 98,
   "metadata": {},
   "outputs": [],
   "source": [
    "EMBEDDING_DIM = 300\n",
    "MAX_SEQUENCE_LEGNTH = 20\n",
    "filter_sizes = [3,4,5]\n",
    "num_filters = 100\n",
    "dim_output = 6\n",
    "\n",
    "class textCNN(keras.Model):\n",
    "    \n",
    "    def __init__(self,\n",
    "                 embedding_matrix,\n",
    "                 output_size=dim_output,\n",
    "                 max_sequence_length=MAX_SEQUENCE_LENGTH,\n",
    "                 num_filters=100,\n",
    "                 filter_sizes=[3,4,5],\n",
    "                 drop_prob=0.5,\n",
    "                 train_embedding=False, # Note that we set trainable=False to prevent the weights from being updated during training.\n",
    "                 **kwargs):\n",
    "        super(textCNN,self).__init__(**kwargs) # 표준 매개변수 처리\n",
    "        \n",
    "        self.max_sequence_length = max_sequence_length\n",
    "        self.drop_prob = drop_prob\n",
    "        self.num_filters = num_filters\n",
    "        self.filter_sizes = filter_sizes\n",
    "        self.output_size = output_size\n",
    "\n",
    "        vocab_size, embedding_dim = embedding_matrix.shape\n",
    "        \n",
    "        #### layers\n",
    "        # if using pretrained model to initialize\n",
    "        self.embedding_layer = keras.layers.Embedding(vocab_size,\n",
    "                                                    EMBEDDING_DIM,\n",
    "                                                    embeddings_initializer=keras.initializers.Constant(embedding_matrix),\n",
    "                                                    trainable=train_embedding) \n",
    "\n",
    "        # # if not using pretrained model\n",
    "        # self.embedding_layer = keras.layers.Embedding(len(word_to_id) + 1,\n",
    "        #                                               EMBEDDING_DIM,\n",
    "        #                                               input_length=MAX_SEQUENCE_LENGTH) \n",
    "\n",
    "        self.conv_layers = []\n",
    "        for i,filter_size in enumerate(filter_sizes):\n",
    "            conv_block = keras.Sequential()\n",
    "\n",
    "            conv = keras.layers.Conv2D(num_filters,\n",
    "                                       (filter_size, embedding_dim),\n",
    "                                       padding='VALID', # ignore padding\n",
    "                                       activation='relu',\n",
    "                                       strides=(1,1),\n",
    "                                       name=f'conv_layer_{i}')\n",
    "\n",
    "            pooling = keras.layers.MaxPooling2D((max_sequence_length - filter_size + 1, 1),\n",
    "                                                padding='valid',\n",
    "                                                strides=(1,1),\n",
    "                                                name=f'pooling_layer_{i}')    \n",
    "\n",
    "            conv_block.add(conv)\n",
    "            conv_block.add(pooling)\n",
    "            \n",
    "            self.conv_layers.append(conv_block)\n",
    "            \n",
    "        self.dense = keras.layers.Dense(output_size,\n",
    "                                     activation='softmax',\n",
    "                                     kernel_regularizer=keras.regularizers.l2(0.01),\n",
    "                                     name='prediction')\n",
    "        \n",
    "        self.flatten = keras.layers.Flatten(name='flatten')\n",
    "        self.reshape = keras.layers.Reshape((max_sequence_length, embedding_dim, 1))\n",
    "        self.dropout = keras.layers.Dropout(rate=drop_prob, name='dropout')\n",
    "        \n",
    "    def call(self, inputs, training=None):\n",
    "        \n",
    "        embedding = self.embedding_layer(inputs)\n",
    "        reshape = self.reshape(embedding) #(sequence_length,EMBEDDING_DIM,1)\n",
    "        \n",
    "        pool_outputs = [layer(reshape) for layer in self.conv_layers]\n",
    "        pool_outputs = keras.layers.concatenate(pool_outputs, axis=-1, name='concatenate')\n",
    "        pool_outputs = self.flatten(pool_outputs)\n",
    "        pool_outputs = self.dropout(pool_outputs)\n",
    "\n",
    "        if training:\n",
    "            pool_outputs=self.dropout(pool_outputs)\n",
    "\n",
    "        logit = self.dense(pool_outputs)\n",
    "        \n",
    "        return logit"
   ]
  },
  {
   "cell_type": "code",
   "execution_count": 99,
   "metadata": {},
   "outputs": [],
   "source": [
    "cnn = textCNN(embedding_matrix = embedding_matrix,\n",
    "              max_sequence_length=20,\n",
    "              output_size = 6)"
   ]
  },
  {
   "cell_type": "code",
   "execution_count": 123,
   "metadata": {},
   "outputs": [],
   "source": [
    "cnn.compile(loss='categorical_crossentropy',\n",
    "            optimizer=keras.optimizers.Adam(),\n",
    "            metrics=['acc'])\n",
    "callbacks = [keras.callbacks.EarlyStopping(monitor='val_loss')]"
   ]
  },
  {
   "cell_type": "code",
   "execution_count": 131,
   "metadata": {},
   "outputs": [
    {
     "name": "stdout",
     "output_type": "stream",
     "text": [
      "Model: \"text_cnn_31\"\n",
      "_________________________________________________________________\n",
      "Layer (type)                 Output Shape              Param #   \n",
      "=================================================================\n",
      "embedding_31 (Embedding)     multiple                  10701300  \n",
      "_________________________________________________________________\n",
      "sequential_46 (Sequential)   multiple                  90100     \n",
      "_________________________________________________________________\n",
      "sequential_47 (Sequential)   multiple                  120100    \n",
      "_________________________________________________________________\n",
      "sequential_48 (Sequential)   multiple                  150100    \n",
      "_________________________________________________________________\n",
      "prediction (Dense)           multiple                  1806      \n",
      "_________________________________________________________________\n",
      "flatten (Flatten)            multiple                  0         \n",
      "_________________________________________________________________\n",
      "reshape_8 (Reshape)          multiple                  0         \n",
      "_________________________________________________________________\n",
      "dropout (Dropout)            multiple                  0         \n",
      "=================================================================\n",
      "Total params: 11,063,406\n",
      "Trainable params: 362,106\n",
      "Non-trainable params: 10,701,300\n",
      "_________________________________________________________________\n"
     ]
    }
   ],
   "source": [
    "cnn.summary()"
   ]
  },
  {
   "cell_type": "code",
   "execution_count": 130,
   "metadata": {},
   "outputs": [
    {
     "name": "stdout",
     "output_type": "stream",
     "text": [
      "Epoch 1/10\n",
      "9600/9600 [==============================] - 59s 6ms/step - loss: 0.6911 - acc: 0.8106 - val_loss: 0.4426 - val_acc: 0.8844\n",
      "Epoch 2/10\n",
      "9600/9600 [==============================] - 55s 6ms/step - loss: 0.4556 - acc: 0.8803 - val_loss: 0.3830 - val_acc: 0.8929\n",
      "Epoch 3/10\n",
      "9600/9600 [==============================] - 58s 6ms/step - loss: 0.3959 - acc: 0.8964 - val_loss: 0.3514 - val_acc: 0.9006\n",
      "Epoch 4/10\n",
      "9600/9600 [==============================] - 54s 6ms/step - loss: 0.3621 - acc: 0.9036 - val_loss: 0.3321 - val_acc: 0.9048\n",
      "Epoch 5/10\n",
      "9600/9600 [==============================] - 72s 8ms/step - loss: 0.3431 - acc: 0.9111 - val_loss: 0.3262 - val_acc: 0.9029\n",
      "Epoch 6/10\n",
      "9600/9600 [==============================] - 72s 8ms/step - loss: 0.3194 - acc: 0.9177 - val_loss: 0.3252 - val_acc: 0.9029\n",
      "Epoch 7/10\n",
      "9600/9600 [==============================] - 66s 7ms/step - loss: 0.3098 - acc: 0.9197 - val_loss: 0.3150 - val_acc: 0.9023\n",
      "Epoch 8/10\n",
      "9600/9600 [==============================] - 59s 6ms/step - loss: 0.2986 - acc: 0.9242 - val_loss: 0.3116 - val_acc: 0.9050\n",
      "Epoch 9/10\n",
      "9600/9600 [==============================] - 69s 7ms/step - loss: 0.2845 - acc: 0.9290 - val_loss: 0.3054 - val_acc: 0.9077\n",
      "Epoch 10/10\n",
      "9600/9600 [==============================] - 79s 8ms/step - loss: 0.2720 - acc: 0.9340 - val_loss: 0.3014 - val_acc: 0.9094\n"
     ]
    }
   ],
   "source": [
    " # starts training\n",
    "history = cnn.fit(X_train, y_train,\n",
    "                  batch_size=4, \n",
    "                  epochs=10, \n",
    "                  verbose=1,\n",
    "                  validation_data=(X_val,y_val),\n",
    "                  callbacks=callbacks) "
   ]
  },
  {
   "cell_type": "markdown",
   "metadata": {},
   "source": [
    "# 5. Result"
   ]
  },
  {
   "cell_type": "code",
   "execution_count": 132,
   "metadata": {},
   "outputs": [
    {
     "name": "stdout",
     "output_type": "stream",
     "text": [
      "\n",
      "150/150 [==============================] - 1s 8ms/step - loss: 0.3000 - acc: 0.9162\n",
      "\n",
      "loss: 30.00%\n",
      "Accuracy: 91.62%\n"
     ]
    }
   ],
   "source": [
    "# final evaluation of the model\n",
    "print (\"\")\n",
    "scores = cnn.evaluate(X_test, y_test, verbose=1)\n",
    "print (\"\")\n",
    "print (\"loss: %.2f%%\" % (scores[0] * 100))\n",
    "print (\"Accuracy: %.2f%%\" % (scores[1] * 100))"
   ]
  },
  {
   "cell_type": "code",
   "execution_count": 180,
   "metadata": {},
   "outputs": [
    {
     "data": {
      "image/png": "[encoded data removed]",
      "text/plain": [
       "<Figure size 576x360 with 1 Axes>"
      ]
     },
     "metadata": {
      "needs_background": "light"
     },
     "output_type": "display_data"
    }
   ],
   "source": [
    "pd.DataFrame(history.history).plot(figsize=(8,5))\n",
    "plt.grid(True)\n",
    "plt.gca().set_ylim(0,1)\n",
    "plt.show()"
   ]
  },
  {
   "cell_type": "code",
   "execution_count": 200,
   "metadata": {},
   "outputs": [
    {
     "name": "stdout",
     "output_type": "stream",
     "text": [
      "probability\n",
      "[[0.   0.   1.   0.   0.   0.  ]\n",
      " [0.   0.   0.   0.   1.   0.  ]\n",
      " [0.   0.   1.   0.   0.   0.  ]\n",
      " ...\n",
      " [0.   0.   0.   1.   0.   0.  ]\n",
      " [1.   0.   0.   0.   0.   0.  ]\n",
      " [0.19 0.1  0.24 0.22 0.15 0.11]]\n",
      "\n",
      "predict\n",
      "['fear' 'sad' 'fear' ... 'happy' 'angry' 'fear']\n",
      "\n",
      "감정 개수 별 예측\n",
      "Counter({'sad': 835, 'happy': 821, 'surprised': 817, 'angry': 800, 'fear': 779, 'disgust': 748})\n"
     ]
    }
   ],
   "source": [
    "y_proba = cnn.predict(X_test)\n",
    "print(\"probability\")\n",
    "print(y_proba.round(2))\n",
    "\n",
    "\n",
    "class_names = cat_encoder.categories_[0]\n",
    "y_pred = np.argmax(y_proba,axis=1)\n",
    "print()\n",
    "print(\"predict\")\n",
    "print(class_names[y_pred])\n",
    "print()\n",
    "print(\"감정 개수 별 예측\")\n",
    "print(Counter(class_names[y_pred]))"
   ]
  },
  {
   "cell_type": "code",
   "execution_count": null,
   "metadata": {},
   "outputs": [],
   "source": []
  },
  {
   "cell_type": "code",
   "execution_count": null,
   "metadata": {},
   "outputs": [],
   "source": []
  },
  {
   "cell_type": "code",
   "execution_count": null,
   "metadata": {},
   "outputs": [],
   "source": []
  },
  {
   "cell_type": "markdown",
   "metadata": {},
   "source": [
    "# Alpha\n",
    "## 함수형 API"
   ]
  },
  {
   "cell_type": "code",
   "execution_count": 91,
   "metadata": {},
   "outputs": [],
   "source": [
    "vocab_size, embedding_dim = embedding_matrix.shape\n",
    "\n",
    "\n",
    "# functional\n",
    "sequence_length = X_train.shape[1]\n",
    "inputs = keras.layers.Input(shape=(max_sequence_length,))\n",
    "embedding = keras.layers.Embedding(vocab_size, EMBEDDING_DIM,\n",
    "                                   weights=[embedding_matrix],\n",
    "                                   trainable=True)(inputs)\n",
    "reshape = keras.layers.Reshape((sequence_length,EMBEDDING_DIM,1))(embedding)\n",
    "\n",
    "conv_0 = keras.layers.Conv2D(num_filters, (filter_sizes[0], EMBEDDING_DIM),activation='relu',\n",
    "                            kernel_regularizer=keras.regularizers.l2(0.01))(reshape)\n",
    "conv_1 = keras.layers.Conv2D(num_filters, (filter_sizes[1], EMBEDDING_DIM),activation='relu',\n",
    "                            kernel_regularizer=keras.regularizers.l2(0.01))(reshape)\n",
    "conv_2 = keras.layers.Conv2D(num_filters, (filter_sizes[2], EMBEDDING_DIM),activation='relu',\n",
    "                            kernel_regularizer=keras.regularizers.l2(0.01))(reshape)\n",
    "\n",
    "maxpool_0 = keras.layers.MaxPooling2D((sequence_length - filter_sizes[0] + 1, 1), \n",
    "                                      strides=(1,1))(conv_0)\n",
    "maxpool_1 = keras.layers.MaxPooling2D((sequence_length - filter_sizes[1] + 1, 1), \n",
    "                                      strides=(1,1))(conv_1)\n",
    "maxpool_2 = keras.layers.MaxPooling2D((sequence_length - filter_sizes[2] + 1, 1), \n",
    "                                      strides=(1,1))(conv_2)\n",
    "\n",
    "# pool_outputs = concatenate([maxpool_0, maxpool_1, maxpool_2], axis=1)\n",
    "pool_outputs = keras.layers.Concatenate()([maxpool_0, maxpool_1, maxpool_2])\n",
    "\n",
    "flatten = keras.layers.Flatten()(pool_outputs)\n",
    "dropout = keras.layers.Dropout(drop_prob)(flatten)\n",
    "output = Dense(units=6, \n",
    "               activation='softmax',\n",
    "               kernel_regularizer=keras.regularizers.l2(0.01))(dropout)\n",
    "\n",
    "# this creates a model that includes\n",
    "model = keras.Model(inputs, output)"
   ]
  },
  {
   "cell_type": "code",
   "execution_count": null,
   "metadata": {},
   "outputs": [],
   "source": []
  },
  {
   "cell_type": "code",
   "execution_count": null,
   "metadata": {},
   "outputs": [],
   "source": []
  },
  {
   "cell_type": "code",
   "execution_count": null,
   "metadata": {},
   "outputs": [],
   "source": []
  },
  {
   "cell_type": "code",
   "execution_count": null,
   "metadata": {},
   "outputs": [],
   "source": []
  },
  {
   "cell_type": "markdown",
   "metadata": {},
   "source": [
    "# 2018ver"
   ]
  },
  {
   "cell_type": "code",
   "execution_count": 30,
   "metadata": {
    "ExecuteTime": {
     "end_time": "2020-07-14T05:04:55.795053Z",
     "start_time": "2020-07-14T05:04:55.665401Z"
    },
    "code_folding": [
     0
    ],
    "collapsed": true,
    "jupyter": {
     "outputs_hidden": true
    }
   },
   "outputs": [],
   "source": [
    "def cnn_model(dropout):   \n",
    "    # gpu 설정\n",
    "    with K.tf.device('/gpu:0'):\n",
    "        model_Conv2 = Sequential()        \n",
    "\n",
    "        EMBEDDING_DIM = 300\n",
    "        MAX_SEQUENCE_LENGTH = 20\n",
    "        \n",
    "        # 3 Conv1D layers\n",
    "        model_Conv2.add(Embedding(len(word_index),\n",
    "                        EMBEDDING_DIM,\n",
    "                        weights = [embedding_matrix],\n",
    "                        input_length = MAX_SEQUENCE_LENGTH,\n",
    "                        trainable = False) )\n",
    "        \n",
    "        model_Conv2.add(Conv1D(256,\n",
    "                            1,\n",
    "                            padding='same',\n",
    "                            activation='relu',\n",
    "                            strides= 1))\n",
    "        model_Conv2.add(Dropout(dropout))\n",
    "        \n",
    "        model_Conv2.add(Conv1D(256,\n",
    "                            1,\n",
    "                            padding='same',\n",
    "                            activation='relu',\n",
    "                            strides= 1))\n",
    "        model_Conv2.add(Dropout(dropout))\n",
    "        \n",
    "        model_Conv2.add(Conv1D(256,\n",
    "                            1,\n",
    "                            padding='same',\n",
    "                            activation='relu',\n",
    "                            strides= 1))\n",
    "        model_Conv2.add(Dropout(dropout))\n",
    "\n",
    "        model_Conv2.add(GlobalMaxPooling1D())\n",
    "        \n",
    "        model_Conv2.add(Dense(256, activation='relu'))\n",
    "        model_Conv2.add(Dropout(dropout))\n",
    "        \n",
    "        model_Conv2.add(Dense(64, activation='relu'))\n",
    "        model_Conv2.add(Dropout(dropout))\n",
    "\n",
    "        model_Conv2.add(Dense(6, activation='softmax'))\n",
    "        \n",
    "        # optimizer 사용\n",
    "        Adam = optimizers.Adam(lr=0.0001, beta_1=0.9, beta_2=0.999)\n",
    "        \n",
    "        model_Conv2.compile(\n",
    "            loss = 'categorical_crossentropy',\n",
    "            optimizer = Adam,\n",
    "            metrics = ['accuracy'])\n",
    "        \n",
    "        model_Conv2.summary()\n",
    "        # Model 학습, tensorflow chart 활용\n",
    "        # tb_hist = keras.callbacks.TensorBoard(log_dir = './graph', histogram_freq = 0, \n",
    "        #                                           write_graph = True, write_images = True)\n",
    "        conv_model2 = model_Conv2.fit(\n",
    "            X_train, y_train,\n",
    "            epochs = 200, batch_size = 64,\n",
    "            validation_split = 0.1,#0.1로 고정할 것\n",
    "            callbacks = [EarlyStopping(monitor = 'val_loss', patience = 10)], # tb_hist\n",
    "            verbose = 1,\n",
    "            shuffle=True)\n",
    "\n",
    "        # final evaluation of the model\n",
    "        print (\"\")\n",
    "        scores = model_Conv2.evaluate(X_test, y_test, verbose=1)\n",
    "        print (\"\")\n",
    "        print (\"loss: %.2f%%\" % (scores[0] * 100))\n",
    "        print (\"Accuracy: %.2f%%\" % (scores[1] * 100))\n",
    "\n",
    "        # 과정 살펴보기\n",
    "        matplotlib.rcParams.update({'font.size': 12})\n",
    "        fig, loss_ax = plt.subplots()\n",
    "        #krkwplt.style.use(\"ggplot\")\n",
    "        acc_ax = loss_ax.twinx()\n",
    "\n",
    "        loss_ax.plot(conv_model2.history['loss'], 'y', label= 'train loss')\n",
    "        loss_ax.plot(conv_model2.history['val_loss'], 'r', label= 'val loss')\n",
    "\n",
    "        acc_ax.plot(conv_model2.history['accuracy'], 'b', label = 'train acc')\n",
    "        acc_ax.plot(conv_model2.history['val_accuracy'], 'g', label = 'val acc')\n",
    "\n",
    "        loss_ax.set_xlabel('epoch')\n",
    "        loss_ax.set_ylabel('loss')\n",
    "        acc_ax.set_ylabel('accuracy')\n",
    "\n",
    "        loss_ax.legend(loc='right')\n",
    "        acc_ax.legend(loc='best')\n",
    "        fig = plt.gcf()\n",
    "        plt.title(\"CNN Model\")\n",
    "        plt.show()\n",
    "        \n",
    "        return model_Conv2"
   ]
  }
 ],
 "metadata": {
  "kernelspec": {
   "display_name": "Python 3",
   "language": "python",
   "name": "python3"
  },
  "language_info": {
   "codemirror_mode": {
    "name": "ipython",
    "version": 3
   },
   "file_extension": ".py",
   "mimetype": "text/x-python",
   "name": "python",
   "nbconvert_exporter": "python",
   "pygments_lexer": "ipython3",
   "version": "3.7.4"
  },
  "toc-autonumbering": false
 },
 "nbformat": 4,
 "nbformat_minor": 4
}
