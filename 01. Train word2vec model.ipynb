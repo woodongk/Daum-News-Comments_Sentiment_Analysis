{
 "cells": [
  {
   "cell_type": "code",
   "execution_count": 3,
   "metadata": {},
   "outputs": [],
   "source": [
    "import pandas as pd\n",
    "import numpy as np\n",
    "import os\n",
    "import sys\n",
    "sys.path.append(\"..\")\n",
    "from util.text_preprocessing import load_data, tokenize_comment, count_comment\n",
    "\n",
    "import tqdm"
   ]
  },
  {
   "cell_type": "markdown",
   "metadata": {},
   "source": [
    "# Load Data"
   ]
  },
  {
   "cell_type": "code",
   "execution_count": 7,
   "metadata": {},
   "outputs": [],
   "source": [
    "DATA_PATH = os.path.normpath('dataset')"
   ]
  },
  {
   "cell_type": "code",
   "execution_count": 8,
   "metadata": {},
   "outputs": [
    {
     "data": {
      "text/plain": [
       "['daum_comments_201712_non_entertain.txt',\n",
       " 'daum_comments_201709_entertain.txt',\n",
       " 'daum_comments_201710_entertain.txt',\n",
       " 'daum_comments_201707_entertain.txt',\n",
       " 'daum_comments_201709_non_entertain.txt',\n",
       " 'daum_comments_201710_non_entertain.txt',\n",
       " 'daum_comments_201708_non_entertain.txt',\n",
       " 'daum_comments_201711_non_entertain.txt',\n",
       " 'daum_comments_201712_entertain.txt',\n",
       " 'daum_comments_201711_entertain.txt',\n",
       " 'daum_comments_201708_entertain.txt',\n",
       " 'daum_comments_201707_non_entertain.txt']"
      ]
     },
     "execution_count": 8,
     "metadata": {},
     "output_type": "execute_result"
    }
   ],
   "source": [
    "[path for path in os.listdir(DATA_PATH) if path[-3:] == 'txt']"
   ]
  },
  {
   "cell_type": "code",
   "execution_count": 9,
   "metadata": {
    "scrolled": true
   },
   "outputs": [
    {
     "name": "stdout",
     "output_type": "stream",
     "text": [
      "daum_comments_201712_non_entertain.txt\n",
      "312267\n",
      "@@@@@@\n",
      "daum_comments_201709_entertain.txt\n",
      "159917\n",
      "@@@@@@\n",
      "daum_comments_201710_entertain.txt\n",
      "119281\n",
      "@@@@@@\n",
      "daum_comments_201707_entertain.txt\n",
      "106103\n",
      "@@@@@@\n",
      "daum_comments_201709_non_entertain.txt\n",
      "433686\n",
      "@@@@@@\n",
      "daum_comments_201710_non_entertain.txt\n",
      "34022\n",
      "@@@@@@\n",
      "daum_comments_201708_non_entertain.txt\n",
      "411888\n",
      "@@@@@@\n",
      "daum_comments_201711_non_entertain.txt\n",
      "220887\n",
      "@@@@@@\n",
      "daum_comments_201712_entertain.txt\n",
      "92119\n",
      "@@@@@@\n",
      "daum_comments_201711_entertain.txt\n",
      "103843\n",
      "@@@@@@\n",
      "daum_comments_201708_entertain.txt\n",
      "31405\n",
      "@@@@@@\n",
      "daum_comments_201707_non_entertain.txt\n",
      "371725\n",
      "@@@@@@\n"
     ]
    }
   ],
   "source": [
    "total_comments_df = pd.DataFrame()\n",
    "path_only_txt = [path for path in os.listdir(DATA_PATH) if path[-3:] == 'txt']\n",
    "\n",
    "for path in path_only_txt:\n",
    "    print(path)\n",
    "    data_df = load_data(os.path.join(DATA_PATH,path))\n",
    "    data_df = data_df[data_df.comment != \"\"]\n",
    "    total_comments_df = total_comments_df.append(data_df)"
   ]
  },
  {
   "cell_type": "code",
   "execution_count": 10,
   "metadata": {},
   "outputs": [
    {
     "data": {
      "text/html": [
       "<div>\n",
       "<style scoped>\n",
       "    .dataframe tbody tr th:only-of-type {\n",
       "        vertical-align: middle;\n",
       "    }\n",
       "\n",
       "    .dataframe tbody tr th {\n",
       "        vertical-align: top;\n",
       "    }\n",
       "\n",
       "    .dataframe thead th {\n",
       "        text-align: right;\n",
       "    }\n",
       "</style>\n",
       "<table border=\"1\" class=\"dataframe\">\n",
       "  <thead>\n",
       "    <tr style=\"text-align: right;\">\n",
       "      <th></th>\n",
       "      <th>news_id</th>\n",
       "      <th>comment_id</th>\n",
       "      <th>comment</th>\n",
       "    </tr>\n",
       "  </thead>\n",
       "  <tbody>\n",
       "    <tr>\n",
       "      <th>144826</th>\n",
       "      <td>20170814123745481</td>\n",
       "      <td>5E7A8D96FFC4466FB5B7A867618D77BF</td>\n",
       "      <td>웃기네  그게 애국이냐 사드찬성하고 제주해군기지 반대 안하는게 애국이지 얼어죽을 소...</td>\n",
       "    </tr>\n",
       "    <tr>\n",
       "      <th>73698</th>\n",
       "      <td>20170808170145022</td>\n",
       "      <td>D54EF97A38DD4188A3C286143174C662</td>\n",
       "      <td>지금 남자청소년들이 죄다 저런 인식이 박혀있다는건데  심각한거다 정말</td>\n",
       "    </tr>\n",
       "    <tr>\n",
       "      <th>88914</th>\n",
       "      <td>20170726000440879</td>\n",
       "      <td>1AABCD4BFED445169B741105B5B21B85</td>\n",
       "      <td>이경규 실망</td>\n",
       "    </tr>\n",
       "    <tr>\n",
       "      <th>195909</th>\n",
       "      <td>20170912070108643</td>\n",
       "      <td>811BDB10FAEA454B878723B1A4B5EA63</td>\n",
       "      <td>염병허네</td>\n",
       "    </tr>\n",
       "    <tr>\n",
       "      <th>255687</th>\n",
       "      <td>20170914150050652</td>\n",
       "      <td>51A9B8822EE849639D1550CCAF09049A</td>\n",
       "      <td>너무 실망스러워.  너무 저급해.  나라를 너무 망쳐놨네.</td>\n",
       "    </tr>\n",
       "  </tbody>\n",
       "</table>\n",
       "</div>"
      ],
      "text/plain": [
       "                  news_id                        comment_id  \\\n",
       "144826  20170814123745481  5E7A8D96FFC4466FB5B7A867618D77BF   \n",
       "73698   20170808170145022  D54EF97A38DD4188A3C286143174C662   \n",
       "88914   20170726000440879  1AABCD4BFED445169B741105B5B21B85   \n",
       "195909  20170912070108643  811BDB10FAEA454B878723B1A4B5EA63   \n",
       "255687  20170914150050652  51A9B8822EE849639D1550CCAF09049A   \n",
       "\n",
       "                                                  comment  \n",
       "144826  웃기네  그게 애국이냐 사드찬성하고 제주해군기지 반대 안하는게 애국이지 얼어죽을 소...  \n",
       "73698              지금 남자청소년들이 죄다 저런 인식이 박혀있다는건데  심각한거다 정말  \n",
       "88914                                              이경규 실망  \n",
       "195909                                               염병허네  \n",
       "255687                   너무 실망스러워.  너무 저급해.  나라를 너무 망쳐놨네.  "
      ]
     },
     "execution_count": 10,
     "metadata": {},
     "output_type": "execute_result"
    }
   ],
   "source": [
    "#total_comments_df.to_pickle(os.path.join(DATA_PATH,\"total-comments.pkl\"))\n",
    "total_comments_df = pd.read_pickle(os.path.join(DATA_PATH,\"total-comments.pkl\"))\n",
    "total_comments_df.sample(5)"
   ]
  },
  {
   "cell_type": "markdown",
   "metadata": {},
   "source": [
    "# Tokenize comments\n",
    "\n",
    "- 추출 태그 = [\"Noun\", \"Adjective\"]\n",
    "- stopwords = [\"것\", \"이\", \"안\", \"더\", \"왜\", \"때\", \"좀\", \"뭐\", \"거\", \"저\", \"뿐\", \"머\"]"
   ]
  },
  {
   "cell_type": "code",
   "execution_count": 6,
   "metadata": {},
   "outputs": [
    {
     "name": "stderr",
     "output_type": "stream",
     "text": [
      "100%|██████████| 2393070/2393070 [1:34:01<00:00, 424.18it/s]  \n"
     ]
    }
   ],
   "source": [
    "token_data = []\n",
    "\n",
    "for comment in tqdm.tqdm(total_comments_df.comment):\n",
    "    token = tokenize_comment(comment)\n",
    "    token_data.append(token)                                                                                           "
   ]
  },
  {
   "cell_type": "code",
   "execution_count": 8,
   "metadata": {},
   "outputs": [
    {
     "name": "stdout",
     "output_type": "stream",
     "text": [
      "사람(149608) 말(97918) 놈(83417) 그(81252) 돈(80708) 국민(79315) 생각(77891) 나라(69993) 개(64957) 이런(54893) 우리(53702) 진짜(53642) 인간(53543) 같은(53427) 일(52415) 그냥(52303) 한국(50991) 기사(50373) 정말(49593) 니(48561) 없는(47587) 문제(46967) 있는(45616) 지금(45515) 애(43968) 해(43608) 수(41481) 쓰레기(41111) 하나(40961) 내(40594) 대통령(39352) 없다(38816) 나(38804) 이제(38755) 또(38294) 못(36588) 여자(34630) 중국(34441) 때문(34434) 법(33683) 입니다(32627) 자(32572) 걸(32153) 살(32137) 미국(31914) 무슨(31666) 정부(31320) 대한민국(31313) 자기(30633) 보고(30499) \n",
      "Total Vocab:  304202\n",
      "\n"
     ]
    }
   ],
   "source": [
    "keys, n_vocab = count_comment(token_data)"
   ]
  },
  {
   "cell_type": "code",
   "execution_count": 12,
   "metadata": {
    "scrolled": true
   },
   "outputs": [
    {
     "data": {
      "text/plain": [
       "0    [이국, 종, 교수, 외과, 야전, 사령관, 분, 업무, 차질, 없도록, 물, 심양...\n",
       "1             [문재인, 대통령, 이국, 종, 교수, 귀순, 병사, 모두, 건강하시길]\n",
       "2                        [단, 한번, 보지, 포인트, 절반, 통신비, 차감]\n",
       "3                                    [우리나라, 통신, 업체, 돈]\n",
       "4                                                 [진짜]\n",
       "dtype: object"
      ]
     },
     "execution_count": 12,
     "metadata": {},
     "output_type": "execute_result"
    }
   ],
   "source": [
    "series_token_data = pd.Series(token_data)\n",
    "series_token_data[:5]"
   ]
  },
  {
   "cell_type": "code",
   "execution_count": 14,
   "metadata": {},
   "outputs": [
    {
     "data": {
      "text/html": [
       "<div>\n",
       "<style scoped>\n",
       "    .dataframe tbody tr th:only-of-type {\n",
       "        vertical-align: middle;\n",
       "    }\n",
       "\n",
       "    .dataframe tbody tr th {\n",
       "        vertical-align: top;\n",
       "    }\n",
       "\n",
       "    .dataframe thead th {\n",
       "        text-align: right;\n",
       "    }\n",
       "</style>\n",
       "<table border=\"1\" class=\"dataframe\">\n",
       "  <thead>\n",
       "    <tr style=\"text-align: right;\">\n",
       "      <th></th>\n",
       "      <th>news_id</th>\n",
       "      <th>comment_id</th>\n",
       "      <th>comment</th>\n",
       "      <th>token</th>\n",
       "    </tr>\n",
       "  </thead>\n",
       "  <tbody>\n",
       "    <tr>\n",
       "      <th>0</th>\n",
       "      <td>20171201145847479</td>\n",
       "      <td>F3C2DFCFE9E947B19C8A3053DD5C821B</td>\n",
       "      <td>이국종교수는  외과 야전사령관 이다.  그분의 업무에 차질 없도록 물심양면 으로  ...</td>\n",
       "      <td>[이국, 종, 교수, 외과, 야전, 사령관, 분, 업무, 차질, 없도록, 물, 심양...</td>\n",
       "    </tr>\n",
       "    <tr>\n",
       "      <th>1</th>\n",
       "      <td>20171201145847479</td>\n",
       "      <td>61A3B6AAD6124DFFB70EC4275496F8A6</td>\n",
       "      <td>문재인 대통령님과 이국종 교수님, 그리고 귀순병사 모두 건강하시길 빕니다.</td>\n",
       "      <td>[문재인, 대통령, 이국, 종, 교수, 귀순, 병사, 모두, 건강하시길]</td>\n",
       "    </tr>\n",
       "    <tr>\n",
       "      <th>2</th>\n",
       "      <td>20171201060244786</td>\n",
       "      <td>B6660EF2C7C14A2F903A08363641CF09</td>\n",
       "      <td>단 한번도 써보지 못했다ㆍ 포인트의 절반만이라도 통신비로 차감을!</td>\n",
       "      <td>[단, 한번, 보지, 포인트, 절반, 통신비, 차감]</td>\n",
       "    </tr>\n",
       "    <tr>\n",
       "      <th>3</th>\n",
       "      <td>20171201060244786</td>\n",
       "      <td>C4F129BFB1FD4543A24A03D96F38351D</td>\n",
       "      <td>우리나라 통신업체들  참 쉽게  돈 벌어요</td>\n",
       "      <td>[우리나라, 통신, 업체, 돈]</td>\n",
       "    </tr>\n",
       "    <tr>\n",
       "      <th>4</th>\n",
       "      <td>20171201060244786</td>\n",
       "      <td>1A21FDDF151E45DF808F0E5B662E8F3C</td>\n",
       "      <td>진짜 쓸데가너무적다.</td>\n",
       "      <td>[진짜]</td>\n",
       "    </tr>\n",
       "  </tbody>\n",
       "</table>\n",
       "</div>"
      ],
      "text/plain": [
       "             news_id                        comment_id  \\\n",
       "0  20171201145847479  F3C2DFCFE9E947B19C8A3053DD5C821B   \n",
       "1  20171201145847479  61A3B6AAD6124DFFB70EC4275496F8A6   \n",
       "2  20171201060244786  B6660EF2C7C14A2F903A08363641CF09   \n",
       "3  20171201060244786  C4F129BFB1FD4543A24A03D96F38351D   \n",
       "4  20171201060244786  1A21FDDF151E45DF808F0E5B662E8F3C   \n",
       "\n",
       "                                             comment  \\\n",
       "0  이국종교수는  외과 야전사령관 이다.  그분의 업무에 차질 없도록 물심양면 으로  ...   \n",
       "1          문재인 대통령님과 이국종 교수님, 그리고 귀순병사 모두 건강하시길 빕니다.   \n",
       "2               단 한번도 써보지 못했다ㆍ 포인트의 절반만이라도 통신비로 차감을!   \n",
       "3                            우리나라 통신업체들  참 쉽게  돈 벌어요   \n",
       "4                                        진짜 쓸데가너무적다.   \n",
       "\n",
       "                                               token  \n",
       "0  [이국, 종, 교수, 외과, 야전, 사령관, 분, 업무, 차질, 없도록, 물, 심양...  \n",
       "1           [문재인, 대통령, 이국, 종, 교수, 귀순, 병사, 모두, 건강하시길]  \n",
       "2                      [단, 한번, 보지, 포인트, 절반, 통신비, 차감]  \n",
       "3                                  [우리나라, 통신, 업체, 돈]  \n",
       "4                                               [진짜]  "
      ]
     },
     "execution_count": 14,
     "metadata": {},
     "output_type": "execute_result"
    }
   ],
   "source": [
    "total_comments_df = total_comments_df.reset_index(drop=True)\n",
    "total_comments_df['comment_token'] = series_token_data\n",
    "total_comments_df.tail()"
   ]
  },
  {
   "cell_type": "code",
   "execution_count": null,
   "metadata": {},
   "outputs": [],
   "source": [
    "#total_comments_df.to_pickle(\"dataset/total-comments_tokenized.pkl\")"
   ]
  },
  {
   "cell_type": "markdown",
   "metadata": {},
   "source": [
    "# word2vec 모델 학습 및 불러오기"
   ]
  },
  {
   "cell_type": "code",
   "execution_count": 18,
   "metadata": {
    "scrolled": true
   },
   "outputs": [],
   "source": [
    "import codecs\n",
    "from gensim.models import word2vec"
   ]
  },
  {
   "cell_type": "code",
   "execution_count": 1,
   "metadata": {},
   "outputs": [],
   "source": [
    "# 모델 학습\n",
    "# data = token_data\n",
    "# model_w2v = word2vec.Word2Vec(data, size = 200, window = 2, min_count=50, workers=4, iter=1000, sg=1)"
   ]
  },
  {
   "cell_type": "code",
   "execution_count": null,
   "metadata": {},
   "outputs": [],
   "source": [
    "#모델 저장\n",
    "#model_w2v.save(os.path.join(DATA_PATH,\"news_word2vec200_0601.model\"))"
   ]
  },
  {
   "cell_type": "code",
   "execution_count": 22,
   "metadata": {},
   "outputs": [],
   "source": [
    "# 모델 불러오기\n",
    "model = word2vec.Word2Vec.load(os.path.join(DATA_PATH,'news_word2vec200_0601.model'))"
   ]
  },
  {
   "cell_type": "markdown",
   "metadata": {},
   "source": [
    "# 결과 확인"
   ]
  },
  {
   "cell_type": "code",
   "execution_count": 25,
   "metadata": {},
   "outputs": [
    {
     "data": {
      "text/plain": [
       "[('짱개', 0.7679023742675781),\n",
       " ('중공', 0.7595304250717163),\n",
       " ('짱깨', 0.7550416588783264),\n",
       " ('중국인', 0.6248396039009094),\n",
       " ('중궈', 0.6085962057113647),\n",
       " ('러시아', 0.6039886474609375),\n",
       " ('짱꼴라', 0.6032412052154541),\n",
       " ('시진핑', 0.5997093915939331),\n",
       " ('떼놈', 0.593903660774231),\n",
       " ('일본', 0.5746039152145386)]"
      ]
     },
     "execution_count": 25,
     "metadata": {},
     "output_type": "execute_result"
    }
   ],
   "source": [
    "model.wv.most_similar(positive = \"중국\")"
   ]
  },
  {
   "cell_type": "code",
   "execution_count": 27,
   "metadata": {},
   "outputs": [
    {
     "data": {
      "text/plain": [
       "[('쪽바리', 0.6954399347305298),\n",
       " ('일본도', 0.5997508764266968),\n",
       " ('쪽발이', 0.5985842943191528),\n",
       " ('왜놈', 0.5870932340621948),\n",
       " ('일본인', 0.5790498852729797),\n",
       " ('중국', 0.5746039152145386),\n",
       " ('미국', 0.5537657141685486),\n",
       " ('섬나라', 0.5426937341690063),\n",
       " ('영국', 0.5394709706306458),\n",
       " ('일제', 0.5370844006538391)]"
      ]
     },
     "execution_count": 27,
     "metadata": {},
     "output_type": "execute_result"
    }
   ],
   "source": [
    "model.wv.most_similar(positive = \"일본\")"
   ]
  },
  {
   "cell_type": "code",
   "execution_count": 30,
   "metadata": {},
   "outputs": [
    {
     "data": {
      "text/plain": [
       "[('대통', 0.8171153664588928),\n",
       " ('문통', 0.6681836843490601),\n",
       " ('통령', 0.6041181087493896),\n",
       " ('문재인', 0.5746550559997559),\n",
       " ('영부인', 0.5668596029281616),\n",
       " ('달님', 0.5206634998321533),\n",
       " ('정부', 0.5154260993003845),\n",
       " ('김정숙', 0.5096569061279297),\n",
       " ('댓통', 0.5093349814414978),\n",
       " ('전대통령', 0.5060245990753174)]"
      ]
     },
     "execution_count": 30,
     "metadata": {},
     "output_type": "execute_result"
    }
   ],
   "source": [
    "model.wv.most_similar(positive = \"대통령\")"
   ]
  }
 ],
 "metadata": {
  "kernelspec": {
   "display_name": "Python 3",
   "language": "python",
   "name": "python3"
  },
  "language_info": {
   "codemirror_mode": {
    "name": "ipython",
    "version": 3
   },
   "file_extension": ".py",
   "mimetype": "text/x-python",
   "name": "python",
   "nbconvert_exporter": "python",
   "pygments_lexer": "ipython3",
   "version": "3.7.4"
  },
  "toc-autonumbering": true
 },
 "nbformat": 4,
 "nbformat_minor": 4
}
